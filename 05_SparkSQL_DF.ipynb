{
 "cells": [
  {
   "cell_type": "code",
   "execution_count": 1,
   "id": "1b3eda8b-96db-4b88-bd2a-a36decd42e67",
   "metadata": {},
   "outputs": [],
   "source": [
    "from pyspark import SparkConf, SparkContext\n",
    "conf = SparkConf().setMaster(\"local\").setAppName(\"spark_sql_basic2\")\n",
    "sc   = SparkContext(conf=conf)"
   ]
  },
  {
   "cell_type": "code",
   "execution_count": 2,
   "id": "5427b282-733a-4fc4-aade-1ee06b0286cf",
   "metadata": {},
   "outputs": [],
   "source": [
    "# RDD만을 이용한 데이터 추출\n",
    "movies_rdd = sc.parallelize([\n",
    "    (1, (\"어벤져스\", \"마블\")),\n",
    "    (2, (\"슈퍼맨\", \"DC\")),\n",
    "    (3, (\"배트맨\", \"DC\")),\n",
    "    (4, (\"겨울왕국\", \"디즈니\")),\n",
    "    (5, (\"아이언맨\", \"마블\"))\n",
    "])\n",
    "\n",
    "\n",
    "attendances_rdd = sc.parallelize([\n",
    "    (1, (13934592, \"KR\")),\n",
    "    (2, (2182227,\"KR\")),\n",
    "    (3, (4226242, \"KR\")),\n",
    "    (4, (10303058, \"KR\")),\n",
    "    (5, (4300365, \"KR\"))\n",
    "])"
   ]
  },
  {
   "cell_type": "code",
   "execution_count": 3,
   "id": "d4103c0d-ac61-47e7-8ee0-94d47835587b",
   "metadata": {},
   "outputs": [
    {
     "data": {
      "text/plain": [
       "[(2, (('슈퍼맨', 'DC'), (2182227, 'KR'))),\n",
       " (4, (('겨울왕국', '디즈니'), (10303058, 'KR'))),\n",
       " (1, (('어벤져스', '마블'), (13934592, 'KR'))),\n",
       " (3, (('배트맨', 'DC'), (4226242, 'KR'))),\n",
       " (5, (('아이언맨', '마블'), (4300365, 'KR')))]"
      ]
     },
     "execution_count": 3,
     "metadata": {},
     "output_type": "execute_result"
    }
   ],
   "source": [
    "# 마블 영화 중 관객 수가 500만 이상인 영화를 가져오기\n",
    "movie_att = movies_rdd.join(attendances_rdd)\n",
    "movie_att.take(5)"
   ]
  },
  {
   "cell_type": "code",
   "execution_count": 4,
   "id": "e985a72e-7add-4258-adde-0cd5e1c0fda3",
   "metadata": {},
   "outputs": [
    {
     "data": {
      "text/plain": [
       "[(1, (('어벤져스', '마블'), (13934592, 'KR')))]"
      ]
     },
     "execution_count": 4,
     "metadata": {},
     "output_type": "execute_result"
    }
   ],
   "source": [
    "movie_att.filter(lambda x : x[1][0][1] == '마블' and x[1][1][0] >= 5000000).collect()"
   ]
  },
  {
   "cell_type": "code",
   "execution_count": 5,
   "id": "0715500e-1f30-4656-8fc8-5b9474d93f25",
   "metadata": {},
   "outputs": [
    {
     "data": {
      "text/plain": [
       "[(1, (('어벤져스', '마블'), (13934592, 'KR')))]"
      ]
     },
     "execution_count": 5,
     "metadata": {},
     "output_type": "execute_result"
    }
   ],
   "source": [
    "filtered_movies = movies_rdd.filter(lambda x : x[1][1] == '마블')\n",
    "filtered_att = attendances_rdd.filter(lambda x : x[1][0] > 5000000)\n",
    "\n",
    "filtered_movies.join(filtered_att).collect()"
   ]
  },
  {
   "cell_type": "code",
   "execution_count": 6,
   "id": "856dbc3e-2e7d-4fb2-9bec-b8ef37b3a715",
   "metadata": {},
   "outputs": [],
   "source": [
    "sc.stop()"
   ]
  },
  {
   "cell_type": "code",
   "execution_count": 7,
   "id": "d4caad7f-4221-4d4a-a5e3-d88d7bbfc52c",
   "metadata": {},
   "outputs": [],
   "source": [
    "from pyspark.sql import SparkSession\n",
    "spark = SparkSession.builder.master(\"local\").appName(\"spark-sql\").getOrCreate()"
   ]
  },
  {
   "cell_type": "code",
   "execution_count": 8,
   "id": "0cac4bf2-77b9-432f-9607-16d4394ea7fd",
   "metadata": {},
   "outputs": [],
   "source": [
    "# 컬럼 추가\n",
    "movies = [\n",
    "    (1, \"어벤져스\", \"마블\", 2012, 4, 26),\n",
    "    (2, \"슈퍼맨\", \"DC\", 2013, 6, 13),\n",
    "    (3, \"배트맨\", \"DC\", 2008, 8, 6),\n",
    "    (4, \"겨울왕국\", \"디즈니\", 2014, 1, 16),\n",
    "    (5, \"아이언맨\", \"마블\", 2008, 4, 30)\n",
    "]"
   ]
  },
  {
   "cell_type": "code",
   "execution_count": 9,
   "id": "94816e5d-1ac7-4a76-aea8-ed19240dcade",
   "metadata": {},
   "outputs": [],
   "source": [
    "movie_schema = [\"id\", \"name\", \"company\", \"year\", \"month\", \"day\"]"
   ]
  },
  {
   "cell_type": "code",
   "execution_count": 10,
   "id": "1ea21d4c-f1be-41b8-9a49-8f3e058ff40c",
   "metadata": {},
   "outputs": [],
   "source": [
    "df = spark.createDataFrame(data=movies, schema=movie_schema)"
   ]
  },
  {
   "cell_type": "code",
   "execution_count": 11,
   "id": "7ae3ec84-1e69-4182-a4a4-7471b67763e1",
   "metadata": {},
   "outputs": [
    {
     "data": {
      "text/plain": [
       "DataFrame[id: bigint, name: string, company: string, year: bigint, month: bigint, day: bigint]"
      ]
     },
     "execution_count": 11,
     "metadata": {},
     "output_type": "execute_result"
    }
   ],
   "source": [
    "df"
   ]
  },
  {
   "cell_type": "code",
   "execution_count": 12,
   "id": "13dc59ff-ed15-43e5-bd7e-2533b4fbea9a",
   "metadata": {},
   "outputs": [
    {
     "data": {
      "text/plain": [
       "[('id', 'bigint'),\n",
       " ('name', 'string'),\n",
       " ('company', 'string'),\n",
       " ('year', 'bigint'),\n",
       " ('month', 'bigint'),\n",
       " ('day', 'bigint')]"
      ]
     },
     "execution_count": 12,
     "metadata": {},
     "output_type": "execute_result"
    }
   ],
   "source": [
    "df.dtypes"
   ]
  },
  {
   "cell_type": "code",
   "execution_count": 13,
   "id": "83242daa-4270-4024-b0f9-c14ae9c1a492",
   "metadata": {},
   "outputs": [
    {
     "name": "stdout",
     "output_type": "stream",
     "text": [
      "+---+--------+-------+----+-----+---+\n",
      "| id|    name|company|year|month|day|\n",
      "+---+--------+-------+----+-----+---+\n",
      "|  1|어벤져스|   마블|2012|    4| 26|\n",
      "|  2|  슈퍼맨|     DC|2013|    6| 13|\n",
      "|  3|  배트맨|     DC|2008|    8|  6|\n",
      "+---+--------+-------+----+-----+---+\n",
      "only showing top 3 rows\n",
      "\n"
     ]
    }
   ],
   "source": [
    "df.show(3)"
   ]
  },
  {
   "cell_type": "code",
   "execution_count": 14,
   "id": "6be1bdaf-3704-4fbb-ae3f-8fcc8578306c",
   "metadata": {},
   "outputs": [
    {
     "name": "stdout",
     "output_type": "stream",
     "text": [
      "+-------+\n",
      "|company|\n",
      "+-------+\n",
      "|   마블|\n",
      "|     DC|\n",
      "|     DC|\n",
      "| 디즈니|\n",
      "|   마블|\n",
      "+-------+\n",
      "\n"
     ]
    }
   ],
   "source": [
    "df.select('company').show()"
   ]
  },
  {
   "cell_type": "code",
   "execution_count": 15,
   "id": "57e66b67-b95b-4939-bf4e-b5fc8fe739e1",
   "metadata": {},
   "outputs": [
    {
     "name": "stdout",
     "output_type": "stream",
     "text": [
      "+---+--------+-------+----+-----+---+\n",
      "| id|    name|company|year|month|day|\n",
      "+---+--------+-------+----+-----+---+\n",
      "|  1|어벤져스|   마블|2012|    4| 26|\n",
      "|  2|  슈퍼맨|     DC|2013|    6| 13|\n",
      "|  4|겨울왕국| 디즈니|2014|    1| 16|\n",
      "+---+--------+-------+----+-----+---+\n",
      "\n"
     ]
    }
   ],
   "source": [
    "df.filter(df.year > 2010).show()"
   ]
  },
  {
   "cell_type": "code",
   "execution_count": 16,
   "id": "d2e27e92-ad7c-44c4-96d3-38e73658c60e",
   "metadata": {},
   "outputs": [
    {
     "name": "stdout",
     "output_type": "stream",
     "text": [
      "+----+-----+---+\n",
      "|year|month|day|\n",
      "+----+-----+---+\n",
      "|2012|    4| 26|\n",
      "|2013|    6| 13|\n",
      "|2008|    8|  6|\n",
      "|2014|    1| 16|\n",
      "|2008|    4| 30|\n",
      "+----+-----+---+\n",
      "\n"
     ]
    }
   ],
   "source": [
    "df.select('year', 'month', 'day').show()"
   ]
  },
  {
   "cell_type": "code",
   "execution_count": 17,
   "id": "e15e42c4-697c-4d9a-b84f-58c015a316ad",
   "metadata": {},
   "outputs": [
    {
     "name": "stdout",
     "output_type": "stream",
     "text": [
      "+---+--------+-------+----+-----+---+\n",
      "| id|    name|company|year|month|day|\n",
      "+---+--------+-------+----+-----+---+\n",
      "|  1|어벤져스|   마블|2012|    4| 26|\n",
      "|  2|  슈퍼맨|     DC|2013|    6| 13|\n",
      "|  3|  배트맨|     DC|2008|    8|  6|\n",
      "|  5|아이언맨|   마블|2008|    4| 30|\n",
      "+---+--------+-------+----+-----+---+\n",
      "\n"
     ]
    }
   ],
   "source": [
    "df.filter((df.company == '마블') | (df.company == 'DC')).show()"
   ]
  },
  {
   "cell_type": "code",
   "execution_count": 18,
   "id": "6d525297-c1bc-425e-a79d-1c5dbc4ba3b8",
   "metadata": {},
   "outputs": [],
   "source": [
    "df.createOrReplaceTempView(\"movies\")"
   ]
  },
  {
   "cell_type": "code",
   "execution_count": 19,
   "id": "80162a81-6adb-42d6-9b90-bfa719bd22ec",
   "metadata": {},
   "outputs": [
    {
     "name": "stdout",
     "output_type": "stream",
     "text": [
      "+--------+\n",
      "|    name|\n",
      "+--------+\n",
      "|어벤져스|\n",
      "|  슈퍼맨|\n",
      "|  배트맨|\n",
      "|겨울왕국|\n",
      "|아이언맨|\n",
      "+--------+\n",
      "\n"
     ]
    }
   ],
   "source": [
    "# 영화 이름만 가져오기\n",
    "\n",
    "query = \"\"\"\n",
    "\n",
    "SELECT name\n",
    "  FROM movies\n",
    "\n",
    "\"\"\"\n",
    "spark.sql(query).show()"
   ]
  },
  {
   "cell_type": "code",
   "execution_count": 20,
   "id": "12bbe22f-7847-4a48-9f7e-7d8e18cf28be",
   "metadata": {},
   "outputs": [
    {
     "name": "stdout",
     "output_type": "stream",
     "text": [
      "+---+--------+-------+----+-----+---+\n",
      "| id|    name|company|year|month|day|\n",
      "+---+--------+-------+----+-----+---+\n",
      "|  1|어벤져스|   마블|2012|    4| 26|\n",
      "|  2|  슈퍼맨|     DC|2013|    6| 13|\n",
      "|  4|겨울왕국| 디즈니|2014|    1| 16|\n",
      "+---+--------+-------+----+-----+---+\n",
      "\n"
     ]
    }
   ],
   "source": [
    "# 2010년 이후에 개봉한 영화를 조회\n",
    "\n",
    "query = \"\"\"\n",
    "SELECT *\n",
    "FROM movies\n",
    "WHERE year > 2010\n",
    "\"\"\"\n",
    "spark.sql(query).show()"
   ]
  },
  {
   "cell_type": "code",
   "execution_count": 21,
   "id": "97b4a2c2-5876-413e-b658-a95169c1de3b",
   "metadata": {},
   "outputs": [
    {
     "name": "stdout",
     "output_type": "stream",
     "text": [
      "+--------+-------+\n",
      "|    name|company|\n",
      "+--------+-------+\n",
      "|  배트맨|     DC|\n",
      "|아이언맨|   마블|\n",
      "+--------+-------+\n",
      "\n"
     ]
    }
   ],
   "source": [
    "# 2012년도 이전에 개봉한 영화의 이름과 회사를 출력\n",
    "query = \"\"\"\n",
    "SELECT name, company\n",
    "FROM movies\n",
    "WHERE year < 2012\n",
    "\"\"\"\n",
    "spark.sql(query).show()"
   ]
  },
  {
   "cell_type": "code",
   "execution_count": 22,
   "id": "8d5a29ab-6989-4e19-8c9e-43a0c5727b81",
   "metadata": {},
   "outputs": [
    {
     "name": "stdout",
     "output_type": "stream",
     "text": [
      "+---+--------+-------+----+-----+---+\n",
      "| id|    name|company|year|month|day|\n",
      "+---+--------+-------+----+-----+---+\n",
      "|  2|  슈퍼맨|     DC|2013|    6| 13|\n",
      "|  3|  배트맨|     DC|2008|    8|  6|\n",
      "|  5|아이언맨|   마블|2008|    4| 30|\n",
      "+---+--------+-------+----+-----+---+\n",
      "\n"
     ]
    }
   ],
   "source": [
    "# like 문자열 데이터에서 특정 단어나 문장을 포함한 데이터를 찾을 때\n",
    "# % 기호를 사용해서 문장이 매칭되는지 확인 가능!\n",
    "# 제목이 ~~맨으로 끝나는 데이터의 모든 정보를 조회\n",
    "query = \"\"\"\n",
    "SELECT *\n",
    "FROM movies\n",
    "WHERE name LIKE \"%맨\"\n",
    "\"\"\"\n",
    "spark.sql(query).show()"
   ]
  },
  {
   "cell_type": "code",
   "execution_count": 23,
   "id": "8c1e196e-0f84-4f6d-8e60-3137bf7a30d9",
   "metadata": {},
   "outputs": [
    {
     "name": "stdout",
     "output_type": "stream",
     "text": [
      "+---+--------+-------+----+-----+---+\n",
      "| id|    name|company|year|month|day|\n",
      "+---+--------+-------+----+-----+---+\n",
      "|  1|어벤져스|   마블|2012|    4| 26|\n",
      "|  2|  슈퍼맨|     DC|2013|    6| 13|\n",
      "|  3|  배트맨|     DC|2008|    8|  6|\n",
      "|  5|아이언맨|   마블|2008|    4| 30|\n",
      "+---+--------+-------+----+-----+---+\n",
      "\n"
     ]
    }
   ],
   "source": [
    "# BETWEEN 특정 데이터와 데이터 사이를 조회\n",
    "# 개봉 월이 4 ~ 8월 사이. 4 <= 개봉월 <= 8\n",
    "query = \"\"\"\n",
    "SELECT *\n",
    "FROM movies\n",
    "WHERE month BETWEEN 4 AND 8\n",
    "\"\"\"\n",
    "spark.sql(query).show()"
   ]
  },
  {
   "cell_type": "code",
   "execution_count": 24,
   "id": "0ffb075f-86d3-44a0-a1bf-030cf36acf04",
   "metadata": {},
   "outputs": [],
   "source": [
    "attendances = [\n",
    "    (1, 13934592., \"KR\"),\n",
    "    (2, 2182227.,\"KR\"),\n",
    "    (3, 4226242., \"KR\"),\n",
    "    (4, 10303058., \"KR\"),\n",
    "    (5, 4300365., \"KR\")\n",
    "]"
   ]
  },
  {
   "cell_type": "code",
   "execution_count": 25,
   "id": "e6d84e9f-3a5c-4264-a379-40daac9f70e6",
   "metadata": {},
   "outputs": [],
   "source": [
    "from pyspark.sql.types import StringType, FloatType\\\n",
    "    , IntegerType\\\n",
    "    , StructType, StructField"
   ]
  },
  {
   "cell_type": "code",
   "execution_count": 26,
   "id": "0d42bc50-29a1-4678-bf62-dd44e42bb8c4",
   "metadata": {},
   "outputs": [],
   "source": [
    "att_schema = StructType([ # 모든 컬럼의 타입을 통칭 - 컬럼 데이터의 집합\n",
    "    StructField(\"id\", IntegerType(), True), # StructField : 컬럼\n",
    "    StructField(\"att\", FloatType(), True),\n",
    "    StructField(\"theater_country\", StringType(), True)\n",
    "])"
   ]
  },
  {
   "cell_type": "code",
   "execution_count": 27,
   "id": "05e64432-29dc-4c44-9df7-bc6d0fc86a2a",
   "metadata": {},
   "outputs": [
    {
     "data": {
      "text/plain": [
       "[('id', 'int'), ('att', 'float'), ('theater_country', 'string')]"
      ]
     },
     "execution_count": 27,
     "metadata": {},
     "output_type": "execute_result"
    }
   ],
   "source": [
    "att_df = spark.createDataFrame(\n",
    "    data=attendances,\n",
    "    schema=att_schema\n",
    ")\n",
    "\n",
    "att_df.dtypes"
   ]
  },
  {
   "cell_type": "code",
   "execution_count": 28,
   "id": "c8772814-ed9a-46a3-9ee6-9529c74626bd",
   "metadata": {},
   "outputs": [],
   "source": [
    "att_df.createOrReplaceTempView(\"att\")"
   ]
  },
  {
   "cell_type": "code",
   "execution_count": 29,
   "id": "dff345ab-c869-4733-a505-b59cf54a8d7c",
   "metadata": {},
   "outputs": [
    {
     "name": "stdout",
     "output_type": "stream",
     "text": [
      "+---+-----------+---------------+\n",
      "| id|        att|theater_country|\n",
      "+---+-----------+---------------+\n",
      "|  1|1.3934592E7|             KR|\n",
      "|  2|  2182227.0|             KR|\n",
      "|  3|  4226242.0|             KR|\n",
      "|  4|1.0303058E7|             KR|\n",
      "|  5|  4300365.0|             KR|\n",
      "+---+-----------+---------------+\n",
      "\n"
     ]
    }
   ],
   "source": [
    "att_df.select('*').show()"
   ]
  },
  {
   "cell_type": "code",
   "execution_count": 30,
   "id": "05467643-c7a5-437e-b080-78f1532c52b7",
   "metadata": {},
   "outputs": [
    {
     "name": "stdout",
     "output_type": "stream",
     "text": [
      "+---+--------+-------+-----------+\n",
      "| id|    name|company|        att|\n",
      "+---+--------+-------+-----------+\n",
      "|  1|어벤져스|   마블|1.3934592E7|\n",
      "|  2|  슈퍼맨|     DC|  2182227.0|\n",
      "|  3|  배트맨|     DC|  4226242.0|\n",
      "|  4|겨울왕국| 디즈니|1.0303058E7|\n",
      "|  5|아이언맨|   마블|  4300365.0|\n",
      "+---+--------+-------+-----------+\n",
      "\n"
     ]
    }
   ],
   "source": [
    "# df와 join\n",
    "query = '''\n",
    "SELECT movies.id, movies.name, movies.company, att.att\n",
    "FROM movies\n",
    "JOIN att ON movies.id = att.id\n",
    "'''\n",
    "\n",
    "spark.sql(query).show()"
   ]
  },
  {
   "cell_type": "code",
   "execution_count": 31,
   "id": "247ae519-95a7-470b-b1eb-b530ae62e0cc",
   "metadata": {},
   "outputs": [],
   "source": [
    "spark.stop()"
   ]
  },
  {
   "cell_type": "code",
   "execution_count": 32,
   "id": "1c5b237e-4249-41b4-8619-ec48803c171e",
   "metadata": {},
   "outputs": [],
   "source": [
    "from pyspark.sql import SparkSession\n",
    "\n",
    "spark = SparkSession.builder.appName(\"trip_count_sql\").getOrCreate()"
   ]
  },
  {
   "cell_type": "code",
   "execution_count": 35,
   "id": "9c294ab1-ca72-4f8c-9516-da30ce3a574c",
   "metadata": {},
   "outputs": [],
   "source": [
    "trip_file = \"learning_spark_data/fhvhv_tripdata_2020-03.csv\""
   ]
  },
  {
   "cell_type": "code",
   "execution_count": 36,
   "id": "b5b73369-6344-443f-a94f-543adfbb25f8",
   "metadata": {},
   "outputs": [],
   "source": [
    "data = spark.read.csv(trip_file, inferSchema=True, header=True)"
   ]
  },
  {
   "cell_type": "code",
   "execution_count": 37,
   "id": "fb89a2b1-450d-49a2-b629-3c4cf246f985",
   "metadata": {},
   "outputs": [],
   "source": [
    "data.createOrReplaceTempView(\"mobility_data\")"
   ]
  },
  {
   "cell_type": "code",
   "execution_count": 38,
   "id": "c1e0ca93-6d5c-42e3-8197-050c9674f1a9",
   "metadata": {},
   "outputs": [
    {
     "name": "stdout",
     "output_type": "stream",
     "text": [
      "+-----------------+--------------------+-------------------+-------------------+------------+------------+-------+\n",
      "|hvfhs_license_num|dispatching_base_num|    pickup_datetime|   dropoff_datetime|PULocationID|DOLocationID|SR_Flag|\n",
      "+-----------------+--------------------+-------------------+-------------------+------------+------------+-------+\n",
      "|           HV0005|              B02510|2020-03-01 00:03:40|2020-03-01 00:23:39|          81|         159|   NULL|\n",
      "|           HV0005|              B02510|2020-03-01 00:28:05|2020-03-01 00:38:57|         168|         119|   NULL|\n",
      "|           HV0003|              B02764|2020-03-01 00:03:07|2020-03-01 00:15:04|         137|         209|      1|\n",
      "|           HV0003|              B02764|2020-03-01 00:18:42|2020-03-01 00:38:42|         209|          80|   NULL|\n",
      "|           HV0003|              B02764|2020-03-01 00:44:24|2020-03-01 00:58:44|         256|         226|   NULL|\n",
      "+-----------------+--------------------+-------------------+-------------------+------------+------------+-------+\n",
      "\n"
     ]
    }
   ],
   "source": [
    "query = \"\"\"\n",
    "select *\n",
    "from mobility_data\n",
    "limit 5\n",
    "\"\"\"\n",
    "spark.sql(query).show()"
   ]
  },
  {
   "cell_type": "code",
   "execution_count": 39,
   "id": "3c913b81-ccda-4c3b-b70a-3c436f1a0942",
   "metadata": {},
   "outputs": [
    {
     "name": "stdout",
     "output_type": "stream",
     "text": [
      "+-----------+------+\n",
      "|pickup_date| trips|\n",
      "+-----------+------+\n",
      "| 2020-03-03|697880|\n",
      "| 2020-03-02|648986|\n",
      "| 2020-03-01|784246|\n",
      "| 2020-03-06|872012|\n",
      "| 2020-03-05|731165|\n",
      "| 2020-03-04|707879|\n",
      "| 2020-03-09|628940|\n",
      "| 2020-03-08|731222|\n",
      "| 2020-03-07|886071|\n",
      "| 2020-03-10|626474|\n",
      "| 2020-03-12|643257|\n",
      "| 2020-03-11|628601|\n",
      "| 2020-03-16|391518|\n",
      "| 2020-03-13|660914|\n",
      "| 2020-03-15|448125|\n",
      "| 2020-03-14|569397|\n",
      "| 2020-03-26|141607|\n",
      "| 2020-03-25|141088|\n",
      "| 2020-03-20|261900|\n",
      "| 2020-03-24|141686|\n",
      "+-----------+------+\n",
      "only showing top 20 rows\n",
      "\n"
     ]
    }
   ],
   "source": [
    "query = \"\"\"\n",
    "\n",
    "select split(pickup_datetime, ' ')[0] as pickup_date, count(*) as trips\n",
    "from mobility_data\n",
    "\n",
    "group by pickup_date\n",
    "\"\"\"\n",
    "\n",
    "spark.sql(query).show()"
   ]
  },
  {
   "cell_type": "code",
   "execution_count": 40,
   "id": "8c7cfad1-7f19-4b9d-ba71-c1ad360125b0",
   "metadata": {
    "collapsed": true,
    "jupyter": {
     "outputs_hidden": true
    }
   },
   "outputs": [
    {
     "name": "stdout",
     "output_type": "stream",
     "text": [
      "== Parsed Logical Plan ==\n",
      "'Aggregate ['pickup_date], ['split('pickup_datetime,  )[0] AS pickup_date#354, 'count(1) AS trips#355]\n",
      "+- 'UnresolvedRelation [mobility_data], [], false\n",
      "\n",
      "== Analyzed Logical Plan ==\n",
      "pickup_date: string, trips: bigint\n",
      "Aggregate [split(cast(pickup_datetime#281 as string),  , -1)[0]], [split(cast(pickup_datetime#281 as string),  , -1)[0] AS pickup_date#354, count(1) AS trips#355L]\n",
      "+- SubqueryAlias mobility_data\n",
      "   +- View (`mobility_data`, [hvfhs_license_num#279,dispatching_base_num#280,pickup_datetime#281,dropoff_datetime#282,PULocationID#283,DOLocationID#284,SR_Flag#285])\n",
      "      +- Relation [hvfhs_license_num#279,dispatching_base_num#280,pickup_datetime#281,dropoff_datetime#282,PULocationID#283,DOLocationID#284,SR_Flag#285] csv\n",
      "\n",
      "== Optimized Logical Plan ==\n",
      "Aggregate [_groupingexpression#359], [_groupingexpression#359 AS pickup_date#354, count(1) AS trips#355L]\n",
      "+- Project [split(cast(pickup_datetime#281 as string),  , -1)[0] AS _groupingexpression#359]\n",
      "   +- Relation [hvfhs_license_num#279,dispatching_base_num#280,pickup_datetime#281,dropoff_datetime#282,PULocationID#283,DOLocationID#284,SR_Flag#285] csv\n",
      "\n",
      "== Physical Plan ==\n",
      "AdaptiveSparkPlan isFinalPlan=false\n",
      "+- HashAggregate(keys=[_groupingexpression#359], functions=[count(1)], output=[pickup_date#354, trips#355L])\n",
      "   +- Exchange hashpartitioning(_groupingexpression#359, 200), ENSURE_REQUIREMENTS, [plan_id=388]\n",
      "      +- HashAggregate(keys=[_groupingexpression#359], functions=[partial_count(1)], output=[_groupingexpression#359, count#361L])\n",
      "         +- Project [split(cast(pickup_datetime#281 as string),  , -1)[0] AS _groupingexpression#359]\n",
      "            +- FileScan csv [pickup_datetime#281] Batched: false, DataFilters: [], Format: CSV, Location: InMemoryFileIndex(1 paths)[file:/home/jovyan/work/start_spark/learning_spark_data/fhvhv_tripdata_..., PartitionFilters: [], PushedFilters: [], ReadSchema: struct<pickup_datetime:timestamp>\n",
      "\n"
     ]
    }
   ],
   "source": [
    "spark.sql(query).explain(True)"
   ]
  },
  {
   "cell_type": "code",
   "execution_count": 41,
   "id": "a16ce7ef-8efe-46df-b40f-13da4680cb5b",
   "metadata": {
    "collapsed": true,
    "jupyter": {
     "outputs_hidden": true
    },
    "scrolled": true
   },
   "outputs": [
    {
     "name": "stdout",
     "output_type": "stream",
     "text": [
      "== Parsed Logical Plan ==\n",
      "'Aggregate ['pickup_date], ['pickup_date, 'count(1) AS trips#363]\n",
      "+- 'SubqueryAlias __auto_generated_subquery_name\n",
      "   +- 'Project ['split('pickup_datetime,  )[0] AS pickup_date#362]\n",
      "      +- 'UnresolvedRelation [mobility_data], [], false\n",
      "\n",
      "== Analyzed Logical Plan ==\n",
      "pickup_date: string, trips: bigint\n",
      "Aggregate [pickup_date#362], [pickup_date#362, count(1) AS trips#363L]\n",
      "+- SubqueryAlias __auto_generated_subquery_name\n",
      "   +- Project [split(cast(pickup_datetime#281 as string),  , -1)[0] AS pickup_date#362]\n",
      "      +- SubqueryAlias mobility_data\n",
      "         +- View (`mobility_data`, [hvfhs_license_num#279,dispatching_base_num#280,pickup_datetime#281,dropoff_datetime#282,PULocationID#283,DOLocationID#284,SR_Flag#285])\n",
      "            +- Relation [hvfhs_license_num#279,dispatching_base_num#280,pickup_datetime#281,dropoff_datetime#282,PULocationID#283,DOLocationID#284,SR_Flag#285] csv\n",
      "\n",
      "== Optimized Logical Plan ==\n",
      "Aggregate [pickup_date#362], [pickup_date#362, count(1) AS trips#363L]\n",
      "+- Project [split(cast(pickup_datetime#281 as string),  , -1)[0] AS pickup_date#362]\n",
      "   +- Relation [hvfhs_license_num#279,dispatching_base_num#280,pickup_datetime#281,dropoff_datetime#282,PULocationID#283,DOLocationID#284,SR_Flag#285] csv\n",
      "\n",
      "== Physical Plan ==\n",
      "AdaptiveSparkPlan isFinalPlan=false\n",
      "+- HashAggregate(keys=[pickup_date#362], functions=[count(1)], output=[pickup_date#362, trips#363L])\n",
      "   +- Exchange hashpartitioning(pickup_date#362, 200), ENSURE_REQUIREMENTS, [plan_id=403]\n",
      "      +- HashAggregate(keys=[pickup_date#362], functions=[partial_count(1)], output=[pickup_date#362, count#368L])\n",
      "         +- Project [split(cast(pickup_datetime#281 as string),  , -1)[0] AS pickup_date#362]\n",
      "            +- FileScan csv [pickup_datetime#281] Batched: false, DataFilters: [], Format: CSV, Location: InMemoryFileIndex(1 paths)[file:/home/jovyan/work/start_spark/learning_spark_data/fhvhv_tripdata_..., PartitionFilters: [], PushedFilters: [], ReadSchema: struct<pickup_datetime:timestamp>\n",
      "\n"
     ]
    }
   ],
   "source": [
    "# 두번째 쿼리\n",
    "spark.sql(\"\"\"select \n",
    "                pickup_date, \n",
    "                count(*) as trips\n",
    "             from ( select\n",
    "                          split(pickup_datetime, ' ')[0] as pickup_date\n",
    "                          from mobility_data )\n",
    "             group by pickup_date\"\"\").explain(True)"
   ]
  },
  {
   "cell_type": "code",
   "execution_count": 43,
   "id": "ee0d637a-03b8-43d1-8b41-75df2f4be9d0",
   "metadata": {},
   "outputs": [],
   "source": [
    "spark.stop()"
   ]
  },
  {
   "cell_type": "code",
   "execution_count": 44,
   "id": "308d33dc-93ca-498f-b5ab-42a0db402e87",
   "metadata": {},
   "outputs": [],
   "source": [
    "from pyspark.sql import SparkSession\n",
    "\n",
    "spark = SparkSession.builder.appName(\"trip_count_sql\").getOrCreate()"
   ]
  },
  {
   "cell_type": "code",
   "execution_count": 45,
   "id": "9fad9f7a-3518-493c-bca9-730805583f96",
   "metadata": {},
   "outputs": [],
   "source": [
    "# 운행 데이터프레임 생성, Zone 데이터프레임 생성\n",
    "trip_df = spark.read.format('csv').option('header', 'true').option('inferSchema', 'true').load('learning_spark_data/fhvhv_tripdata_2020-03.csv')\n",
    "zone_df = spark.read.format('csv').option('header', 'true').option('inferSchema', 'true').load('learning_spark_data/taxi+_zone_lookup.csv')"
   ]
  },
  {
   "cell_type": "code",
   "execution_count": null,
   "id": "a5a8acda-7e31-495d-b563-ab0f4a9ded12",
   "metadata": {},
   "outputs": [],
   "source": [
    "# 승차 Location(PULocationID)별 개수 세기\n",
    "# 하차 Location(DOLocationID)별 개수 세기\n",
    "#HV0003 운송사업자의 승차 지역별 트립 건수를 집계하고, \n",
    "#가장 많은 운송사업자순으로 정렬하는 분석 쿼리  hvfhs_license_num\n",
    "#운송사별 운행 건수 비교\n",
    "#승차 위치 Borough별 운행 건수\n",
    "#서비스 존별 승차/하차 건수"
   ]
  },
  {
   "cell_type": "code",
   "execution_count": 46,
   "id": "5d2f7a63-ae98-4b32-be2c-58ccfd21c2f5",
   "metadata": {},
   "outputs": [
    {
     "name": "stdout",
     "output_type": "stream",
     "text": [
      "+-----------------+--------------------+-------------------+-------------------+------------+------------+-------+\n",
      "|hvfhs_license_num|dispatching_base_num|    pickup_datetime|   dropoff_datetime|PULocationID|DOLocationID|SR_Flag|\n",
      "+-----------------+--------------------+-------------------+-------------------+------------+------------+-------+\n",
      "|           HV0005|              B02510|2020-03-01 00:03:40|2020-03-01 00:23:39|          81|         159|   NULL|\n",
      "|           HV0005|              B02510|2020-03-01 00:28:05|2020-03-01 00:38:57|         168|         119|   NULL|\n",
      "|           HV0003|              B02764|2020-03-01 00:03:07|2020-03-01 00:15:04|         137|         209|      1|\n",
      "|           HV0003|              B02764|2020-03-01 00:18:42|2020-03-01 00:38:42|         209|          80|   NULL|\n",
      "|           HV0003|              B02764|2020-03-01 00:44:24|2020-03-01 00:58:44|         256|         226|   NULL|\n",
      "+-----------------+--------------------+-------------------+-------------------+------------+------------+-------+\n",
      "only showing top 5 rows\n",
      "\n"
     ]
    }
   ],
   "source": [
    "trip_df.show(5)"
   ]
  },
  {
   "cell_type": "code",
   "execution_count": 47,
   "id": "de191e3f-04e0-46c4-9acd-f6f218b61bf7",
   "metadata": {},
   "outputs": [
    {
     "name": "stdout",
     "output_type": "stream",
     "text": [
      "+----------+-------------+--------------------+------------+\n",
      "|LocationID|      Borough|                Zone|service_zone|\n",
      "+----------+-------------+--------------------+------------+\n",
      "|         1|          EWR|      Newark Airport|         EWR|\n",
      "|         2|       Queens|         Jamaica Bay|   Boro Zone|\n",
      "|         3|        Bronx|Allerton/Pelham G...|   Boro Zone|\n",
      "|         4|    Manhattan|       Alphabet City| Yellow Zone|\n",
      "|         5|Staten Island|       Arden Heights|   Boro Zone|\n",
      "+----------+-------------+--------------------+------------+\n",
      "only showing top 5 rows\n",
      "\n"
     ]
    }
   ],
   "source": [
    "zone_df.show(5)"
   ]
  },
  {
   "cell_type": "code",
   "execution_count": 52,
   "id": "0814a879-b392-4d10-8a3e-ff3f7156f884",
   "metadata": {},
   "outputs": [],
   "source": [
    "trip_df.createOrReplaceTempView('trip')\n",
    "zone_df.createOrReplaceTempView('zone')"
   ]
  },
  {
   "cell_type": "code",
   "execution_count": 56,
   "id": "7a19f836-8285-43e6-a272-92c9eb4f875f",
   "metadata": {},
   "outputs": [
    {
     "name": "stdout",
     "output_type": "stream",
     "text": [
      "+------------+--------------------+--------+\n",
      "|PULocationID|                Zone|count(1)|\n",
      "+------------+--------------------+--------+\n",
      "|         181|          Park Slope|  121576|\n",
      "|         182|         Parkchester|   39914|\n",
      "|         166| Morningside Heights|   70728|\n",
      "|         250|Westchester Villa...|   36232|\n",
      "|         168|Mott Haven/Port M...|   98424|\n",
      "|          18|        Bedford Park|   81206|\n",
      "|          64|          Douglaston|    6841|\n",
      "|          14|           Bay Ridge|   69667|\n",
      "|          26|        Borough Park|   79057|\n",
      "|         207|Saint Michaels Ce...|    2999|\n",
      "|         243|Washington Height...|   87431|\n",
      "|          16|             Bayside|   23875|\n",
      "|         139|           Laurelton|   22500|\n",
      "|         115| Grymes Hill/Clifton|   10806|\n",
      "|         259|  Woodlawn/Wakefield|   42591|\n",
      "|         232|Two Bridges/Sewar...|   64543|\n",
      "|         162|        Midtown East|  104300|\n",
      "|         201|       Rockaway Park|    6472|\n",
      "|          29|      Brighton Beach|   27273|\n",
      "|         209|             Seaport|   26337|\n",
      "+------------+--------------------+--------+\n",
      "only showing top 20 rows\n",
      "\n"
     ]
    }
   ],
   "source": [
    "# 승차 Location(PULocationID)별 개수 세기\n",
    "query = \"\"\"\n",
    "SELECT PULocationID,\n",
    "Zone,\n",
    "count(*)\n",
    "FROM trip\n",
    "INNER JOIN zone\n",
    "ON trip.PULocationID = zone.LocationID\n",
    "GROUP BY PULocationID,\n",
    "Zone\n",
    "\"\"\"\n",
    "spark.sql(query).show()"
   ]
  },
  {
   "cell_type": "code",
   "execution_count": 57,
   "id": "626da602-5193-450b-b84e-49fb505aa1a3",
   "metadata": {},
   "outputs": [
    {
     "name": "stdout",
     "output_type": "stream",
     "text": [
      "+------------+--------------------+--------+\n",
      "|DOLocationID|                Zone|count(1)|\n",
      "+------------+--------------------+--------+\n",
      "|         181|          Park Slope|  116900|\n",
      "|         182|         Parkchester|   36309|\n",
      "|         166| Morningside Heights|   68514|\n",
      "|         250|Westchester Villa...|   37051|\n",
      "|          18|        Bedford Park|   81271|\n",
      "|         168|Mott Haven/Port M...|   99627|\n",
      "|          14|           Bay Ridge|   71770|\n",
      "|          26|        Borough Park|   81084|\n",
      "|          64|          Douglaston|    6778|\n",
      "|         207|Saint Michaels Ce...|    3467|\n",
      "|         243|Washington Height...|   86795|\n",
      "|          16|             Bayside|   23671|\n",
      "|         139|           Laurelton|   18863|\n",
      "|         115| Grymes Hill/Clifton|    9809|\n",
      "|         259|  Woodlawn/Wakefield|   36600|\n",
      "|         232|Two Bridges/Sewar...|   55726|\n",
      "|         162|        Midtown East|   95681|\n",
      "|         201|       Rockaway Park|    7269|\n",
      "|          29|      Brighton Beach|   28095|\n",
      "|         209|             Seaport|   24812|\n",
      "+------------+--------------------+--------+\n",
      "only showing top 20 rows\n",
      "\n"
     ]
    }
   ],
   "source": [
    "# 하차 Location(DOLocationID)별 개수 세기\n",
    "query = \"\"\"\n",
    "SELECT DOLocationID,\n",
    "Zone,\n",
    "count(*)\n",
    "FROM trip\n",
    "INNER JOIN zone\n",
    "ON trip.DOLocationID = zone.LocationID\n",
    "GROUP BY DOLocationID,\n",
    "Zone\n",
    "\"\"\"\n",
    "spark.sql(query).show()"
   ]
  },
  {
   "cell_type": "code",
   "execution_count": 58,
   "id": "c3007bd7-5468-4dd2-9c4a-993ca5abbbe7",
   "metadata": {},
   "outputs": [
    {
     "name": "stdout",
     "output_type": "stream",
     "text": [
      "+------------+--------------------+--------+\n",
      "|PULocationID|                Zone|count(1)|\n",
      "+------------+--------------------+--------+\n",
      "|         181|          Park Slope|   79235|\n",
      "|         182|         Parkchester|   33478|\n",
      "|         166| Morningside Heights|   46653|\n",
      "|         250|Westchester Villa...|   30788|\n",
      "|          18|        Bedford Park|   70536|\n",
      "|          64|          Douglaston|    5545|\n",
      "|          14|           Bay Ridge|   55860|\n",
      "|          26|        Borough Park|   67620|\n",
      "|         168|Mott Haven/Port M...|   82396|\n",
      "|         207|Saint Michaels Ce...|     664|\n",
      "|         243|Washington Height...|   69058|\n",
      "|          16|             Bayside|   19491|\n",
      "|         139|           Laurelton|   17357|\n",
      "|         115| Grymes Hill/Clifton|    8830|\n",
      "|         259|  Woodlawn/Wakefield|   34254|\n",
      "|         232|Two Bridges/Sewar...|   36390|\n",
      "|         162|        Midtown East|   71730|\n",
      "|         201|       Rockaway Park|    5356|\n",
      "|          29|      Brighton Beach|   23249|\n",
      "|         209|             Seaport|   17660|\n",
      "+------------+--------------------+--------+\n",
      "only showing top 20 rows\n",
      "\n"
     ]
    }
   ],
   "source": [
    "#HV0003 운송사업자의 승차 지역별 트립 건수를 집계\n",
    "query = '''\n",
    "SELECT PULocationID,\n",
    "Zone,\n",
    "count(*)\n",
    "FROM trip\n",
    "INNER JOIN zone\n",
    "ON trip.PULocationID = zone.LocationID\n",
    "WHERE hvfhs_license_num = 'HV0003'\n",
    "GROUP BY PULocationID,\n",
    "Zone\n",
    "'''\n",
    "spark.sql(query).show()"
   ]
  },
  {
   "cell_type": "code",
   "execution_count": 63,
   "id": "9fd21e6c-c46d-4abb-b62b-c694cd7dd9b3",
   "metadata": {},
   "outputs": [
    {
     "name": "stdout",
     "output_type": "stream",
     "text": [
      "+-----------------+--------+\n",
      "|hvfhs_license_num|count(1)|\n",
      "+-----------------+--------+\n",
      "|           HV0003| 9836763|\n",
      "|           HV0005| 3219535|\n",
      "|           HV0004|  336606|\n",
      "+-----------------+--------+\n",
      "\n"
     ]
    }
   ],
   "source": [
    "#가장 많은 운송사업자순으로 정렬하는 분석 쿼리\n",
    "query = '''\n",
    "SELECT hvfhs_license_num,\n",
    "count(*)\n",
    "FROM trip\n",
    "GROUP BY hvfhs_license_num\n",
    "ORDER BY count(*) DESC\n",
    "'''\n",
    "spark.sql(query).show()"
   ]
  },
  {
   "cell_type": "code",
   "execution_count": 64,
   "id": "d6c8298f-a5b4-42d5-b29e-d08e199c48cc",
   "metadata": {},
   "outputs": [
    {
     "name": "stdout",
     "output_type": "stream",
     "text": [
      "+------------+-------------+--------+\n",
      "|PULocationID|      Borough|count(1)|\n",
      "+------------+-------------+--------+\n",
      "|         215|       Queens|   44136|\n",
      "|          32|        Bronx|   42128|\n",
      "|         232|    Manhattan|   64543|\n",
      "|          34|     Brooklyn|   11823|\n",
      "|         235|        Bronx|   83347|\n",
      "|         168|        Bronx|   98424|\n",
      "|         260|       Queens|   52982|\n",
      "|         118|Staten Island|   12375|\n",
      "|          88|    Manhattan|   26235|\n",
      "|          80|     Brooklyn|   98314|\n",
      "|          50|    Manhattan|   80762|\n",
      "|          92|       Queens|   54928|\n",
      "|         216|       Queens|   77366|\n",
      "|         122|       Queens|   16043|\n",
      "|           9|       Queens|   10448|\n",
      "|         117|       Queens|   18570|\n",
      "|         186|    Manhattan|   79729|\n",
      "|         107|    Manhattan|  102656|\n",
      "|          62|     Brooklyn|   57126|\n",
      "|         191|       Queens|   33139|\n",
      "+------------+-------------+--------+\n",
      "only showing top 20 rows\n",
      "\n"
     ]
    }
   ],
   "source": [
    "#승차 위치 Borough별 운행 건수\n",
    "query = \"\"\"\n",
    "SELECT PULocationID,\n",
    "Borough,\n",
    "count(*)\n",
    "FROM trip\n",
    "INNER JOIN zone\n",
    "ON trip.PULocationID = zone.LocationID\n",
    "GROUP BY PULocationID,\n",
    "Borough\n",
    "\"\"\"\n",
    "spark.sql(query).show()"
   ]
  },
  {
   "cell_type": "code",
   "execution_count": 77,
   "id": "fc907b38-2ee1-4b85-8a66-15437bee3a3f",
   "metadata": {},
   "outputs": [
    {
     "name": "stdout",
     "output_type": "stream",
     "text": [
      "+------------+------------+-------+\n",
      "|service_zone|PULocationID|PUCount|\n",
      "+------------+------------+-------+\n",
      "|   Boro Zone|         198|  82045|\n",
      "|   Boro Zone|         136|  48398|\n",
      "|   Boro Zone|         240|   8457|\n",
      "|   Boro Zone|          89| 124289|\n",
      "|   Boro Zone|          81|  41425|\n",
      "|   Boro Zone|          31|   5285|\n",
      "|   Boro Zone|          22|  46127|\n",
      "|   Boro Zone|          11|  15737|\n",
      "|   Boro Zone|          39| 116669|\n",
      "|   Boro Zone|         241|  65961|\n",
      "|   Boro Zone|         154|   1242|\n",
      "|   Boro Zone|         147|  40262|\n",
      "| Yellow Zone|         162| 104300|\n",
      "|   Boro Zone|          84|   5235|\n",
      "|   Boro Zone|         189|  45973|\n",
      "|   Boro Zone|          78|  76155|\n",
      "|   Boro Zone|          17| 126228|\n",
      "|   Boro Zone|         196|  32282|\n",
      "|   Boro Zone|         243|  87431|\n",
      "|   Boro Zone|          15|   7685|\n",
      "+------------+------------+-------+\n",
      "only showing top 20 rows\n",
      "\n"
     ]
    }
   ],
   "source": [
    "#서비스 존별 승차/하차 건수\n",
    "query = \"\"\"\n",
    "SELECT service_zone,\n",
    "PULocationID,\n",
    "count(*) AS PUCount\n",
    "FROM trip\n",
    "INNER JOIN zone\n",
    "ON trip.PULocationID = zone.LocationID\n",
    "GROUP BY service_zone,\n",
    "PULocationID\n",
    "\"\"\"\n",
    "spark.sql(query).show()"
   ]
  },
  {
   "cell_type": "code",
   "execution_count": 78,
   "id": "c52acc9b-4d49-4333-a738-73184299f7cc",
   "metadata": {},
   "outputs": [
    {
     "name": "stdout",
     "output_type": "stream",
     "text": [
      "+------------+------------+-------+\n",
      "|service_zone|DOLocationID|DOCount|\n",
      "+------------+------------+-------+\n",
      "|         EWR|         181|     11|\n",
      "|   Boro Zone|         136|  46285|\n",
      "|   Boro Zone|         198|  74176|\n",
      "|    Airports|          81|    226|\n",
      "|   Boro Zone|         240|   8234|\n",
      "| Yellow Zone|         242|   1771|\n",
      "|   Boro Zone|          89| 117246|\n",
      "|   Boro Zone|         234|  22194|\n",
      "| Yellow Zone|         115|    270|\n",
      "|    Airports|          39|   1457|\n",
      "|   Boro Zone|          81|  37303|\n",
      "| Yellow Zone|         106|   2806|\n",
      "| Yellow Zone|          91|   1918|\n",
      "|    Airports|         191|    706|\n",
      "|    Airports|         134|   2070|\n",
      "|   Boro Zone|          31|   4992|\n",
      "|    Airports|         232|   1033|\n",
      "| Yellow Zone|          19|    351|\n",
      "|    Airports|          93|    116|\n",
      "|   Boro Zone|          22|  43660|\n",
      "+------------+------------+-------+\n",
      "only showing top 20 rows\n",
      "\n"
     ]
    }
   ],
   "source": [
    "query = \"\"\"\n",
    "SELECT service_zone,\n",
    "DOLocationID,\n",
    "count(*) AS DOCount\n",
    "FROM trip\n",
    "INNER JOIN zone\n",
    "ON trip.PULocationID = zone.LocationID\n",
    "GROUP BY service_zone,\n",
    "DOLocationID\n",
    "\"\"\"\n",
    "spark.sql(query).show()"
   ]
  },
  {
   "cell_type": "code",
   "execution_count": 79,
   "id": "d8b82006-d5bc-4eb7-9339-e95ed72b7d3c",
   "metadata": {},
   "outputs": [
    {
     "name": "stdout",
     "output_type": "stream",
     "text": [
      "+------------+----------+-------+-------+\n",
      "|service_zone|LocationID|PUCount|DOCount|\n",
      "+------------+----------+-------+-------+\n",
      "|    Airports|       132| 163734| 216213|\n",
      "|    Airports|       138| 155876| 194943|\n",
      "|   Boro Zone|         2|     23|     21|\n",
      "|   Boro Zone|         3|  34076|  32728|\n",
      "|   Boro Zone|         5|   3189|   3126|\n",
      "|   Boro Zone|         6|   6283|   6541|\n",
      "|   Boro Zone|         7| 125458| 124255|\n",
      "|   Boro Zone|         8|    297|    340|\n",
      "|   Boro Zone|         9|  10448|  10554|\n",
      "|   Boro Zone|        10|  44290|  36941|\n",
      "|   Boro Zone|        11|  15737|  15403|\n",
      "|   Boro Zone|        14|  69667|  71770|\n",
      "|   Boro Zone|        15|   7685|   8059|\n",
      "|   Boro Zone|        16|  23875|  23671|\n",
      "|   Boro Zone|        17| 126228| 128152|\n",
      "|   Boro Zone|        18|  81206|  81271|\n",
      "|   Boro Zone|        19|   8672|   7633|\n",
      "|   Boro Zone|        20|  48808|  46187|\n",
      "|   Boro Zone|        21|  37106|  36122|\n",
      "|   Boro Zone|        22|  46127|  46493|\n",
      "+------------+----------+-------+-------+\n",
      "only showing top 20 rows\n",
      "\n"
     ]
    }
   ],
   "source": [
    "query = \"\"\"\n",
    "SELECT\n",
    "    service_zone,\n",
    "    LocationID,\n",
    "    SUM(CASE WHEN Type = 'PU' THEN Count ELSE 0 END) AS PUCount,\n",
    "    SUM(CASE WHEN Type = 'DO' THEN Count ELSE 0 END) AS DOCount\n",
    "FROM (\n",
    "    SELECT\n",
    "        z.service_zone,\n",
    "        t.PULocationID AS LocationID,\n",
    "        'PU' AS Type,\n",
    "        count(*) AS Count\n",
    "    FROM trip t\n",
    "    JOIN zone z\n",
    "    ON t.PULocationID = z.LocationID\n",
    "    GROUP BY z.service_zone, t.PULocationID\n",
    "\n",
    "    UNION ALL\n",
    "\n",
    "    SELECT\n",
    "        z.service_zone,\n",
    "        t.DOLocationID AS LocationID,\n",
    "        'DO' AS Type,\n",
    "        count(*) AS Count\n",
    "    FROM trip t\n",
    "    JOIN zone z\n",
    "    ON t.DOLocationID = z.LocationID\n",
    "    GROUP BY z.service_zone, t.DOLocationID\n",
    ") AS subquery\n",
    "GROUP BY service_zone, LocationID\n",
    "ORDER BY service_zone, LocationID\n",
    "\"\"\"\n",
    "\n",
    "spark.sql(query).show()"
   ]
  },
  {
   "cell_type": "code",
   "execution_count": 82,
   "id": "0c89a33d-19f5-4e22-a26b-657742903b85",
   "metadata": {},
   "outputs": [
    {
     "name": "stdout",
     "output_type": "stream",
     "text": [
      "+------------+----------+-------+-------+\n",
      "|service_zone|LocationID|PUCount|DOCount|\n",
      "+------------+----------+-------+-------+\n",
      "|    Airports|       132| 163734| 216213|\n",
      "|    Airports|       138| 155876| 194943|\n",
      "|   Boro Zone|         2|     23|     21|\n",
      "|   Boro Zone|         3|  34076|  32728|\n",
      "|   Boro Zone|         5|   3189|   3126|\n",
      "|   Boro Zone|         6|   6283|   6541|\n",
      "|   Boro Zone|         7| 125458| 124255|\n",
      "|   Boro Zone|         8|    297|    340|\n",
      "|   Boro Zone|         9|  10448|  10554|\n",
      "|   Boro Zone|        10|  44290|  36941|\n",
      "|   Boro Zone|        11|  15737|  15403|\n",
      "|   Boro Zone|        14|  69667|  71770|\n",
      "|   Boro Zone|        15|   7685|   8059|\n",
      "|   Boro Zone|        16|  23875|  23671|\n",
      "|   Boro Zone|        17| 126228| 128152|\n",
      "|   Boro Zone|        18|  81206|  81271|\n",
      "|   Boro Zone|        19|   8672|   7633|\n",
      "|   Boro Zone|        20|  48808|  46187|\n",
      "|   Boro Zone|        21|  37106|  36122|\n",
      "|   Boro Zone|        22|  46127|  46493|\n",
      "+------------+----------+-------+-------+\n",
      "only showing top 20 rows\n",
      "\n"
     ]
    }
   ],
   "source": [
    "from pyspark.sql.functions import col, count, lit, sum, when\n",
    "# 1. 픽업(PU) 데이터프레임 생성\n",
    "# trip_df를 zone_df와 PULocationID 기준으로 조인\n",
    "# service_zone, PULocationID별로 count를 계산하고 Type을 'PU'로 지정\n",
    "pu_df = trip_df.join(zone_df, trip_df.PULocationID == zone_df.LocationID) \\\n",
    "               .groupBy(zone_df.service_zone, trip_df.PULocationID.alias(\"LocationID\")) \\\n",
    "               .agg(count(\"*\").alias(\"Count\")) \\\n",
    "               .withColumn(\"Type\", lit(\"PU\"))\n",
    "\n",
    "# 2. 하차(DO) 데이터프레임 생성\n",
    "# trip_df를 zone_df와 DOLocationID 기준으로 조인\n",
    "# service_zone, DOLocationID별로 count를 계산하고 Type을 'DO'로 지정\n",
    "do_df = trip_df.join(zone_df, trip_df.DOLocationID == zone_df.LocationID) \\\n",
    "               .groupBy(zone_df.service_zone, trip_df.DOLocationID.alias(\"LocationID\")) \\\n",
    "               .agg(count(\"*\").alias(\"Count\")) \\\n",
    "               .withColumn(\"Type\", lit(\"DO\"))\n",
    "\n",
    "# 3. PU와 DO 데이터프레임 통합 (UNION ALL)\n",
    "# pu_df와 do_df를 합칩니다.\n",
    "combined_df = pu_df.unionAll(do_df)\n",
    "\n",
    "# 4. 최종 집계\n",
    "# 통합된 데이터프레임에서 service_zone과 LocationID로 그룹화\n",
    "# CASE WHEN 로직을 `sum`과 `when` 함수로 구현하여 PUCount와 DOCount를 계산\n",
    "final_df = combined_df.groupBy(\"service_zone\", \"LocationID\") \\\n",
    "                      .agg(sum(when(col(\"Type\") == \"PU\", col(\"Count\")).otherwise(0)).alias(\"PUCount\"),\n",
    "                           sum(when(col(\"Type\") == \"DO\", col(\"Count\")).otherwise(0)).alias(\"DOCount\")) \\\n",
    "                      .orderBy(\"service_zone\", \"LocationID\")\n",
    "\n",
    "# 결과 출력\n",
    "final_df.show()"
   ]
  },
  {
   "cell_type": "code",
   "execution_count": 95,
   "id": "3abf2187-e386-4931-a034-7e7565468e7f",
   "metadata": {},
   "outputs": [
    {
     "name": "stdout",
     "output_type": "stream",
     "text": [
      "+------------------------+\n",
      "|boardingTimeOver30Minute|\n",
      "+------------------------+\n",
      "|                 1530626|\n",
      "+------------------------+\n",
      "\n"
     ]
    }
   ],
   "source": [
    "#각 탑승의 총 소요 시간을 분 단위로 계산하고, 이 시간이 30분 이상인 탑승 건수를 세세요.\n",
    "query = '''\n",
    "SELECT COUNT(DATEDIFF(minute,pickup_datetime,dropoff_datetime)) as boardingTimeOver30Minute\n",
    "FROM trip\n",
    "WHERE DATEDIFF(minute,pickup_datetime,dropoff_datetime) >= 30\n",
    "'''\n",
    "spark.sql(query).show()"
   ]
  }
 ],
 "metadata": {
  "kernelspec": {
   "display_name": "Python 3 (ipykernel)",
   "language": "python",
   "name": "python3"
  },
  "language_info": {
   "codemirror_mode": {
    "name": "ipython",
    "version": 3
   },
   "file_extension": ".py",
   "mimetype": "text/x-python",
   "name": "python",
   "nbconvert_exporter": "python",
   "pygments_lexer": "ipython3",
   "version": "3.11.6"
  }
 },
 "nbformat": 4,
 "nbformat_minor": 5
}
