{
 "cells": [
  {
   "cell_type": "markdown",
   "id": "e745d50d-9652-4e03-b3dd-185cd41195d1",
   "metadata": {},
   "source": [
    "# Reduce\r\n",
    "RDD.reduce(<func>\n",
    "\r\n",
    "사용자가 지정하는 함수를 받아 여러 개의 값을 하나로 줄여줍니다."
   ]
  },
  {
   "cell_type": "code",
   "execution_count": 9,
   "id": "790dd6d7-b3eb-4b0f-af70-af8dad04b566",
   "metadata": {},
   "outputs": [],
   "source": [
    "from pyspark.sql import SparkSession\n",
    "\n",
    "spark = SparkSession.builder.appName(\"restaurant-review-average\")\\\n",
    "        .master('local[*]').getOrCreate()\n",
    "sc = spark.sparkContext"
   ]
  },
  {
   "cell_type": "code",
   "execution_count": 10,
   "id": "8263f5b5-754c-46df-b844-c85e0ebf3055",
   "metadata": {},
   "outputs": [],
   "source": [
    "from operator import add"
   ]
  },
  {
   "cell_type": "code",
   "execution_count": 11,
   "id": "22ac0d2f-fb49-439d-aad4-0126de6e8dd9",
   "metadata": {},
   "outputs": [
    {
     "data": {
      "text/plain": [
       "ParallelCollectionRDD[0] at readRDDFromFile at PythonRDD.scala:289"
      ]
     },
     "execution_count": 11,
     "metadata": {},
     "output_type": "execute_result"
    }
   ],
   "source": [
    "sample_rdd = sc.parallelize([1, 2, 3, 4, 5])\n",
    "sample_rdd"
   ]
  },
  {
   "cell_type": "code",
   "execution_count": 12,
   "id": "2fc0b4fb-77e6-4dcf-97c3-613ce7fd1b8a",
   "metadata": {},
   "outputs": [
    {
     "data": {
      "text/plain": [
       "15"
      ]
     },
     "execution_count": 12,
     "metadata": {},
     "output_type": "execute_result"
    }
   ],
   "source": [
    "sample_rdd.reduce(add)"
   ]
  },
  {
   "cell_type": "code",
   "execution_count": 24,
   "id": "9d1fd17d-d1b6-49d1-b9ba-6c16968104cc",
   "metadata": {},
   "outputs": [
    {
     "data": {
      "text/plain": [
       "18"
      ]
     },
     "execution_count": 24,
     "metadata": {},
     "output_type": "execute_result"
    }
   ],
   "source": [
    "sample_rdd = sc.parallelize([1, 2, 3, 4])\n",
    "sample_rdd.reduce(lambda x, y : (x * 2)+ y)"
   ]
  },
  {
   "cell_type": "code",
   "execution_count": 22,
   "id": "c8c8d3ec-a8ca-485d-a2a4-d9fe2cc9340c",
   "metadata": {},
   "outputs": [
    {
     "data": {
      "text/plain": [
       "18"
      ]
     },
     "execution_count": 22,
     "metadata": {},
     "output_type": "execute_result"
    }
   ],
   "source": [
    "sc.parallelize([1, 2, 3, 4], 2).reduce(lambda x, y : (x * 2) + y)"
   ]
  },
  {
   "cell_type": "code",
   "execution_count": 23,
   "id": "61057f12-4476-4891-9eb5-15824f987ff5",
   "metadata": {},
   "outputs": [
    {
     "data": {
      "text/plain": [
       "26"
      ]
     },
     "execution_count": 23,
     "metadata": {},
     "output_type": "execute_result"
    }
   ],
   "source": [
    "sc.parallelize([1, 2, 3, 4], 1).reduce(lambda x, y : (x * 2) + y)"
   ]
  },
  {
   "cell_type": "code",
   "execution_count": 25,
   "id": "deb51024-02f1-433a-9e2c-fce06d9b0fd0",
   "metadata": {},
   "outputs": [
    {
     "name": "stdout",
     "output_type": "stream",
     "text": [
      "24\n",
      "24\n"
     ]
    }
   ],
   "source": [
    "rdd = sc.parallelize([2, 3, 4], 4)\n",
    "\n",
    "#숫자의 곱을 계산해서 합한다\n",
    "print(rdd.reduce(lambda x, y : (x * y))) # 2 x 3 -> x 4\n",
    "print(rdd.fold(1, lambda x , y : (x * y))) # 1 x 2 x 3 x 4"
   ]
  },
  {
   "cell_type": "code",
   "execution_count": 26,
   "id": "fcbed846-cdcd-47b3-b217-2fbb97b21f7d",
   "metadata": {},
   "outputs": [
    {
     "name": "stdout",
     "output_type": "stream",
     "text": [
      "Total sum: 500000500000\n"
     ]
    }
   ],
   "source": [
    "# 대규모 숫자 데이터셋 생성\n",
    "numbers_rdd = sc.parallelize(range(1, 1000001))\n",
    "\n",
    "# fold를 사용하여 총합계 계산\n",
    "total_sum = numbers_rdd.fold(0, lambda x, y: x + y)\n",
    "\n",
    "print(f\"Total sum: {total_sum}\")"
   ]
  },
  {
   "cell_type": "code",
   "execution_count": 27,
   "id": "e7b8a148-dec8-4f36-94ac-9418f8cd6f9f",
   "metadata": {},
   "outputs": [
    {
     "name": "stdout",
     "output_type": "stream",
     "text": [
      "Maximum salary: 80000\n"
     ]
    }
   ],
   "source": [
    "# 직원 급여 데이터\n",
    "salaries_rdd = sc.parallelize([50000, 60000, 55000, 75000, 65000, 80000])\n",
    "\n",
    "# fold를 사용하여 최대 급여 찾기\n",
    "max_salary = salaries_rdd.fold(0, lambda x, y: max(x, y))\n",
    "\n",
    "print(f\"Maximum salary: {max_salary}\")"
   ]
  },
  {
   "cell_type": "code",
   "execution_count": 28,
   "id": "056c527a-891d-4da3-8293-4d504d5bc58d",
   "metadata": {},
   "outputs": [
    {
     "name": "stdout",
     "output_type": "stream",
     "text": [
      "Maximum salary by department:\n",
      "IT: 65000\n",
      "HR: 50000\n",
      "Finance: 55000\n"
     ]
    }
   ],
   "source": [
    "# 부서별 직원 급여 데이터\n",
    "dept_salaries = [(\"IT\", 50000), (\"HR\", 45000), (\"IT\", 60000), \n",
    "                 (\"Finance\", 55000), (\"HR\", 50000), (\"IT\", 65000)]\n",
    "dept_rdd = sc.parallelize(dept_salaries)\n",
    "\n",
    "# foldByKey를 사용하여 부서별 최대 급여 찾기\n",
    "max_salary_by_dept = dept_rdd.foldByKey(0, lambda x, y: max(x, y))\n",
    "\n",
    "print(\"Maximum salary by department:\")\n",
    "for dept, max_salary in max_salary_by_dept.collect():\n",
    "    print(f\"{dept}: {max_salary}\")"
   ]
  },
  {
   "cell_type": "code",
   "execution_count": 29,
   "id": "8bdeac6d-1936-43f8-9219-2c71ce75440a",
   "metadata": {},
   "outputs": [],
   "source": [
    "#판매 데이터 분석 (카테고리별 총 매출 계산)\n",
    "sales_data = [\n",
    "    (\"Electronics\", 1000),\n",
    "    (\"Clothing\", 500),\n",
    "    (\"Electronics\", 1500),\n",
    "    (\"Books\", 300),\n",
    "    (\"Clothing\", 750),\n",
    "    (\"Books\", 200)\n",
    "]"
   ]
  },
  {
   "cell_type": "code",
   "execution_count": 67,
   "id": "6d2bde0c-ee4e-4f87-b5b3-88288bf74023",
   "metadata": {},
   "outputs": [
    {
     "name": "stdout",
     "output_type": "stream",
     "text": [
      "Clothing: $1250\n",
      "Electronics: $2500\n",
      "Books: $500\n"
     ]
    }
   ],
   "source": [
    "\n",
    "# RDD 생성\n",
    "sales_rdd = sc.parallelize(sales_data)\n",
    "\n",
    "# 카테고리별 총 매출 계산\n",
    "category_sales = sales_rdd.groupByKey() \\\n",
    "    .mapValues(lambda values: sum(values)) \\\n",
    "    .collect()\n",
    "\n",
    "# 결과 출력\n",
    "for category, total_sales in category_sales:\n",
    "    print(f\"{category}: ${total_sales}\")"
   ]
  },
  {
   "cell_type": "code",
   "execution_count": 31,
   "id": "c18a1d76-078a-4ae7-9f65-18410eaa4f97",
   "metadata": {},
   "outputs": [],
   "source": [
    "#로그 데이터 처리 (IP 주소별 접속 횟수 분석)\n",
    "# SparkContext 생성 가정 (sc)\n",
    "log_data = [\n",
    "    (\"192.168.1.1\", \"login\"),\n",
    "    (\"192.168.1.2\", \"purchase\"),\n",
    "    (\"192.168.1.1\", \"view\"),\n",
    "    (\"192.168.1.3\", \"login\"),\n",
    "    (\"192.168.1.2\", \"login\"),\n",
    "    (\"192.168.1.1\", \"purchase\")\n",
    "]\n",
    "\n",
    "# RDD 생성\n",
    "log_rdd = sc.parallelize(log_data)"
   ]
  },
  {
   "cell_type": "code",
   "execution_count": 36,
   "id": "8b807905-a9eb-49d8-ae65-3368b99f6502",
   "metadata": {},
   "outputs": [
    {
     "name": "stdout",
     "output_type": "stream",
     "text": [
      "192.168.1.1 3\n",
      "192.168.1.2 2\n",
      "192.168.1.3 1\n"
     ]
    }
   ],
   "source": [
    "log = log_rdd.groupByKey().collect()\n",
    "for k, v in log:\n",
    "    print(k, len(v)) # IP별 접속횟수"
   ]
  },
  {
   "cell_type": "code",
   "execution_count": 39,
   "id": "caae1f66-d076-483c-8def-2ac60d6826ff",
   "metadata": {},
   "outputs": [
    {
     "name": "stdout",
     "output_type": "stream",
     "text": [
      "login 3\n",
      "view 1\n",
      "purchase 2\n"
     ]
    }
   ],
   "source": [
    "log = log_rdd.groupBy(lambda x : x[1]).collect()\n",
    "for k, v in log:\n",
    "    print(k, len(v)) # 접속종류별 횟수"
   ]
  },
  {
   "cell_type": "code",
   "execution_count": null,
   "id": "68a0898b-fcdd-4f2f-90b4-01244fa482ee",
   "metadata": {},
   "outputs": [],
   "source": []
  },
  {
   "cell_type": "code",
   "execution_count": 40,
   "id": "8cf61051-8e6d-44b7-8663-2ee907f19c13",
   "metadata": {},
   "outputs": [],
   "source": [
    "#학생 성적 데이터 분석 (과목별 평균 성적 계산)\n",
    "# SparkContext 생성 가정 (sc)\n",
    "student_grades = [\n",
    "    (\"Math\", 85),\n",
    "    (\"English\", 90),\n",
    "    (\"Math\", 92),\n",
    "    (\"Science\", 88),\n",
    "    (\"English\", 95),\n",
    "    (\"Science\", 82)\n",
    "]\n",
    "\n",
    "# RDD 생성\n",
    "grades_rdd = sc.parallelize(student_grades)"
   ]
  },
  {
   "cell_type": "code",
   "execution_count": 58,
   "id": "c2d49813-8e68-46c9-9e32-a1273923aa97",
   "metadata": {},
   "outputs": [
    {
     "name": "stdout",
     "output_type": "stream",
     "text": [
      "Science : 85.0점\n",
      "Math : 88.5점\n",
      "English : 92.5점\n"
     ]
    }
   ],
   "source": [
    "grades = grades_rdd.groupByKey().mapValues(lambda v : sum(v) / len(v)).collect()\n",
    "\n",
    "for k, v in grades:\n",
    "    print(f\"{k} : {v}점\")"
   ]
  },
  {
   "cell_type": "code",
   "execution_count": 62,
   "id": "2a3464c6-ad37-42f4-a79e-f61ec7964984",
   "metadata": {},
   "outputs": [
    {
     "data": {
      "text/plain": [
       "[1, 5, 3, 9, 2, 8, 4, 7, 6]"
      ]
     },
     "execution_count": 62,
     "metadata": {},
     "output_type": "execute_result"
    }
   ],
   "source": [
    "numbers = sc.parallelize([1, 5, 3, 9, 2, 8, 4, 7, 6], numSlices=3)\n",
    "numbers.collect()"
   ]
  },
  {
   "cell_type": "code",
   "execution_count": 64,
   "id": "b3363732-baa9-4aba-b476-e033e073d346",
   "metadata": {},
   "outputs": [
    {
     "data": {
      "text/plain": [
       "[[1, 5, 3], [9, 2, 8], [4, 7, 6]]"
      ]
     },
     "execution_count": 64,
     "metadata": {},
     "output_type": "execute_result"
    }
   ],
   "source": [
    "# glom()은 각 파티션의 내용을 리스트로 감싸서 반환\n",
    "# 즉, 파티션 간의 이동이 없고, 내부 자료구조만 바꾸는 연산\n",
    "# glom()은 RDD의 각 파티션을 배열 형태로 변환하는 narrow transformation\n",
    "numbers.glom().collect()"
   ]
  },
  {
   "cell_type": "code",
   "execution_count": 65,
   "id": "03137a19-45d9-402d-8322-e51acc8bc2ae",
   "metadata": {},
   "outputs": [],
   "source": [
    "numbers = sc.parallelize([1, 5, 3, 9, 2, 8, 4, 7, 6])"
   ]
  },
  {
   "cell_type": "code",
   "execution_count": 66,
   "id": "6242b65a-b538-4912-a5aa-f6d399b82a9b",
   "metadata": {},
   "outputs": [
    {
     "data": {
      "text/plain": [
       "(45, 9)"
      ]
     },
     "execution_count": 66,
     "metadata": {},
     "output_type": "execute_result"
    }
   ],
   "source": [
    "# 평균 계산하기\n",
    "sum_count = numbers.aggregate(\n",
    "    (0, 0),  # 초기값 (합계, 개수)\n",
    "    lambda acc, value: (acc[0] + value, acc[1] + 1),  # 각 파티션 내 연산\n",
    "    lambda acc1, acc2: (acc1[0] + acc2[0], acc1[1] + acc2[1])  # 파티션 간 연산\n",
    ")\n",
    "sum_count"
   ]
  },
  {
   "cell_type": "code",
   "execution_count": 68,
   "id": "29b59981-e7ad-4450-b46d-6037e2b5dbf2",
   "metadata": {},
   "outputs": [
    {
     "name": "stdout",
     "output_type": "stream",
     "text": [
      "Average: 5.0\n"
     ]
    }
   ],
   "source": [
    "average = sum_count[0] / sum_count[1]\n",
    "print(\"Average:\", average)  # 5.0"
   ]
  },
  {
   "cell_type": "code",
   "execution_count": 76,
   "id": "5a606861-bdbc-4248-ba6d-d11c78152f84",
   "metadata": {},
   "outputs": [],
   "source": [
    "# agg 연습\n",
    "data = [\"hello\", \"world\", \"spark\"]\n",
    "rdd = sc.parallelize(data)\n",
    "\n",
    "def seq_op(acc, value):\n",
    "    text, idx = acc\n",
    "    return (f\"{text} {idx}:{value}\".strip(), idx + 1)\n",
    "\n",
    "def comb_op(acc1, acc2):\n",
    "    # 줄 번호 이어붙이기: 앞쪽 text 유지 + 뒤쪽 text 뒤에 붙이기\n",
    "    text1, idx1 = acc1\n",
    "    text2, idx2 = acc2\n",
    "    # 줄 번호 충돌 피하려면 idx 조정 필요 (복잡하므로 단순히 붙임)\n",
    "    return (f\"{text1} {text2}\".strip(), idx1 + idx2)"
   ]
  },
  {
   "cell_type": "code",
   "execution_count": 78,
   "id": "306062ba-8cf9-452f-8145-dbb144626046",
   "metadata": {},
   "outputs": [
    {
     "name": "stdout",
     "output_type": "stream",
     "text": [
      "1:hello 1:world 2:spark\n"
     ]
    }
   ],
   "source": [
    "zero = (\"\", 1)\n",
    "\n",
    "result = rdd.aggregate(zero, seq_op, comb_op)[0]\n",
    "print(result)"
   ]
  },
  {
   "cell_type": "code",
   "execution_count": 83,
   "id": "280ad8a1-6fdc-41ea-aae0-8bf8bcb64822",
   "metadata": {},
   "outputs": [
    {
     "name": "stdout",
     "output_type": "stream",
     "text": [
      "1:spark 2:hadoop 3:ai 4:python 1:sql 2:test 3:newtest 4:asd 5:qwer\n"
     ]
    }
   ],
   "source": [
    "rdd = sc.parallelize([\"spark\", \"hadoop\", \"ai\", \"python\", \"sql\", \"test\", \"newtest\", \"asd\", \"qwer\"])\n",
    "result = rdd.aggregate(zero, seq_op, comb_op)[0]\n",
    "print(result)"
   ]
  },
  {
   "cell_type": "code",
   "execution_count": 74,
   "id": "f1a0c2cd-3508-407c-92be-0945abf36ebf",
   "metadata": {},
   "outputs": [
    {
     "name": "stdout",
     "output_type": "stream",
     "text": [
      "길이 5 이상인 문자열 개수: 3\n"
     ]
    }
   ],
   "source": [
    "# 길이가 5 이상인 문자열 개수 세기\n",
    "rdd = sc.parallelize([\"spark\", \"hadoop\", \"ai\", \"python\", \"sql\"])\n",
    "\n",
    "result = rdd.aggregate(\n",
    "    0,\n",
    "    lambda acc, value: acc + (1 if len(value) >= 5 else 0),\n",
    "    lambda acc1, acc2: acc1 + acc2\n",
    ")\n",
    "\n",
    "print(\"길이 5 이상인 문자열 개수:\", result)"
   ]
  },
  {
   "cell_type": "code",
   "execution_count": 84,
   "id": "ed5c13fb-8f08-42a3-a250-a9350b130758",
   "metadata": {},
   "outputs": [],
   "source": [
    "sc.stop()\n",
    "spark.stop()"
   ]
  }
 ],
 "metadata": {
  "kernelspec": {
   "display_name": "Python 3 (ipykernel)",
   "language": "python",
   "name": "python3"
  },
  "language_info": {
   "codemirror_mode": {
    "name": "ipython",
    "version": 3
   },
   "file_extension": ".py",
   "mimetype": "text/x-python",
   "name": "python",
   "nbconvert_exporter": "python",
   "pygments_lexer": "ipython3",
   "version": "3.11.6"
  }
 },
 "nbformat": 4,
 "nbformat_minor": 5
}
