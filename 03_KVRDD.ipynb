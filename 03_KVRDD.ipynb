{
 "cells": [
  {
   "cell_type": "code",
   "execution_count": 56,
   "id": "483a9958-2bf9-4bdf-bb52-6c1567594ea1",
   "metadata": {},
   "outputs": [],
   "source": [
    "from pyspark.sql import SparkSession\n",
    "\n",
    "spark = SparkSession.builder.appName(\"restaurant-review-average\")\\\n",
    "        .master('local[*]').getOrCreate()"
   ]
  },
  {
   "cell_type": "code",
   "execution_count": 57,
   "id": "663065d7-2793-465b-a873-571da03bbc7f",
   "metadata": {},
   "outputs": [],
   "source": [
    "sc = spark.sparkContext # 필요 시 RDD API를 위해 사용"
   ]
  },
  {
   "cell_type": "code",
   "execution_count": 6,
   "id": "65e1fa56-ba5e-4331-a27c-23ea675e1e61",
   "metadata": {},
   "outputs": [
    {
     "data": {
      "text/plain": [
       "2"
      ]
     },
     "execution_count": 6,
     "metadata": {},
     "output_type": "execute_result"
    }
   ],
   "source": [
    "sc.defaultParallelism"
   ]
  },
  {
   "cell_type": "code",
   "execution_count": 8,
   "id": "316155a7-3779-437d-a8bc-d4e41df5a1a2",
   "metadata": {},
   "outputs": [],
   "source": [
    "sc.setLogLevel('INFO')"
   ]
  },
  {
   "cell_type": "code",
   "execution_count": 10,
   "id": "94a939b5-dac9-44c6-a933-8c30becd7cf5",
   "metadata": {},
   "outputs": [
    {
     "data": {
      "text/plain": [
       "[('spark.driver.host', '7778534245f4'),\n",
       " ('spark.driver.port', '43305'),\n",
       " ('spark.app.name', 'restaurant-review-average'),\n",
       " ('spark.app.startTime', '1754273604430'),\n",
       " ('spark.executor.id', 'driver'),\n",
       " ('spark.app.id', 'local-1754273604894'),\n",
       " ('spark.driver.extraJavaOptions',\n",
       "  '-Djava.net.preferIPv6Addresses=false -XX:+IgnoreUnrecognizedVMOptions --add-opens=java.base/java.lang=ALL-UNNAMED --add-opens=java.base/java.lang.invoke=ALL-UNNAMED --add-opens=java.base/java.lang.reflect=ALL-UNNAMED --add-opens=java.base/java.io=ALL-UNNAMED --add-opens=java.base/java.net=ALL-UNNAMED --add-opens=java.base/java.nio=ALL-UNNAMED --add-opens=java.base/java.util=ALL-UNNAMED --add-opens=java.base/java.util.concurrent=ALL-UNNAMED --add-opens=java.base/java.util.concurrent.atomic=ALL-UNNAMED --add-opens=java.base/sun.nio.ch=ALL-UNNAMED --add-opens=java.base/sun.nio.cs=ALL-UNNAMED --add-opens=java.base/sun.security.action=ALL-UNNAMED --add-opens=java.base/sun.util.calendar=ALL-UNNAMED --add-opens=java.security.jgss/sun.security.krb5=ALL-UNNAMED -Djdk.reflect.useDirectMethodHandle=false'),\n",
       " ('spark.app.submitTime', '1754273604324'),\n",
       " ('spark.rdd.compress', 'True'),\n",
       " ('spark.serializer.objectStreamReset', '100'),\n",
       " ('spark.master', 'local[*]'),\n",
       " ('spark.submit.pyFiles', ''),\n",
       " ('spark.submit.deployMode', 'client'),\n",
       " ('spark.ui.showConsoleProgress', 'true'),\n",
       " ('spark.executor.extraJavaOptions',\n",
       "  '-Djava.net.preferIPv6Addresses=false -XX:+IgnoreUnrecognizedVMOptions --add-opens=java.base/java.lang=ALL-UNNAMED --add-opens=java.base/java.lang.invoke=ALL-UNNAMED --add-opens=java.base/java.lang.reflect=ALL-UNNAMED --add-opens=java.base/java.io=ALL-UNNAMED --add-opens=java.base/java.net=ALL-UNNAMED --add-opens=java.base/java.nio=ALL-UNNAMED --add-opens=java.base/java.util=ALL-UNNAMED --add-opens=java.base/java.util.concurrent=ALL-UNNAMED --add-opens=java.base/java.util.concurrent.atomic=ALL-UNNAMED --add-opens=java.base/sun.nio.ch=ALL-UNNAMED --add-opens=java.base/sun.nio.cs=ALL-UNNAMED --add-opens=java.base/sun.security.action=ALL-UNNAMED --add-opens=java.base/sun.util.calendar=ALL-UNNAMED --add-opens=java.security.jgss/sun.security.krb5=ALL-UNNAMED -Djdk.reflect.useDirectMethodHandle=false')]"
      ]
     },
     "execution_count": 10,
     "metadata": {},
     "output_type": "execute_result"
    }
   ],
   "source": [
    "sc.getConf().getAll()"
   ]
  },
  {
   "cell_type": "code",
   "execution_count": 5,
   "id": "9f9ba9e1-e1f5-4aa7-92de-9c232add8421",
   "metadata": {},
   "outputs": [],
   "source": [
    "data = [\n",
    "    (0, \"짜장면\", \"중식\", 125),\n",
    "    (1, \"짬뽕\", \"중식\", 235),\n",
    "    (2, \"김밥\", \"분식\", 32),\n",
    "    (3, \"떡볶이\", \"분식\", 534),\n",
    "    (4, \"라멘\", \"일식\", 223),\n",
    "    (5, \"돈가스\", \"일식\", 52),\n",
    "    (6, \"우동\", \"일식\", 12),\n",
    "    (7, \"쌀국수\", \"아시안\", 312),\n",
    "    (8, \"햄버거\", \"패스트푸드\", 12),\n",
    "    (9, \"치킨\", \"패스트푸드\", 23),\n",
    "]"
   ]
  },
  {
   "cell_type": "code",
   "execution_count": 11,
   "id": "2d5f2920-ddcf-4934-a74f-8ea5a4b9daca",
   "metadata": {},
   "outputs": [],
   "source": [
    "rdd1 = sc.parallelize(data)"
   ]
  },
  {
   "cell_type": "code",
   "execution_count": 12,
   "id": "51b6d26e-00e1-43dc-b7c1-c1d3bf1ee7e8",
   "metadata": {},
   "outputs": [
    {
     "data": {
      "text/plain": [
       "[(0, '짜장면', '중식', 125),\n",
       " (1, '짬뽕', '중식', 235),\n",
       " (2, '김밥', '분식', 32),\n",
       " (3, '떡볶이', '분식', 534),\n",
       " (4, '라멘', '일식', 223)]"
      ]
     },
     "execution_count": 12,
     "metadata": {},
     "output_type": "execute_result"
    }
   ],
   "source": [
    "rdd1.take(5)"
   ]
  },
  {
   "cell_type": "code",
   "execution_count": 58,
   "id": "de9b7183-7601-4325-8209-4ea5ebb81f5b",
   "metadata": {},
   "outputs": [
    {
     "data": {
      "text/plain": [
       "['id,item,cateogry,reviews,',\n",
       " '0,짜장면,중식,125,',\n",
       " '1,짬뽕,중식,235,',\n",
       " '2,김밥,분식,32,',\n",
       " '3,떡볶이,분식,534,']"
      ]
     },
     "execution_count": 58,
     "metadata": {},
     "output_type": "execute_result"
    }
   ],
   "source": [
    "lines = sc.textFile(\"file:///home/jovyan/work/start_spark/learning_spark_data/restaurant_reviews.csv\")\n",
    "\n",
    "lines.take(5)"
   ]
  },
  {
   "cell_type": "code",
   "execution_count": 19,
   "id": "b8fe9c64-3f11-432e-beb3-c0c08578e1dd",
   "metadata": {},
   "outputs": [
    {
     "data": {
      "text/plain": [
       "10"
      ]
     },
     "execution_count": 19,
     "metadata": {},
     "output_type": "execute_result"
    }
   ],
   "source": [
    "# 총 건수 확인\n",
    "lines.count() - 1"
   ]
  },
  {
   "cell_type": "code",
   "execution_count": 59,
   "id": "ccf4026a-c3d4-42a5-a8c1-158453e4c4a8",
   "metadata": {},
   "outputs": [],
   "source": [
    "def parse(row):\n",
    "    fields = row.split(\",\")\n",
    "    \n",
    "    category = fields[2] #카테고리\n",
    "    \n",
    "    # reviews는 정수로 parse\n",
    "    reviews = fields[3] # 리뷰수\n",
    "    reviews = int(reviews)\n",
    "    \n",
    "    return category, reviews"
   ]
  },
  {
   "cell_type": "code",
   "execution_count": 60,
   "id": "bd9a7222-ca36-4436-a035-7a0c5a320c81",
   "metadata": {},
   "outputs": [],
   "source": [
    "# 첫줄(컬럼)과 데이터 분리\n",
    "header = lines.first()\n",
    "filtered_lines = lines.filter(lambda row:row != header)"
   ]
  },
  {
   "cell_type": "code",
   "execution_count": 63,
   "id": "62441517-a913-4aa9-af7e-2af39ada8f46",
   "metadata": {},
   "outputs": [
    {
     "data": {
      "text/plain": [
       "PythonRDD[5] at RDD at PythonRDD.scala:53"
      ]
     },
     "execution_count": 63,
     "metadata": {},
     "output_type": "execute_result"
    }
   ],
   "source": [
    "category_reviews = filtered_lines.map(parse)\n",
    "category_reviews"
   ]
  },
  {
   "cell_type": "code",
   "execution_count": 64,
   "id": "19f24c7e-2059-420d-a857-3e8f9ebc9665",
   "metadata": {},
   "outputs": [
    {
     "data": {
      "text/plain": [
       "[('중식', 125),\n",
       " ('중식', 235),\n",
       " ('분식', 32),\n",
       " ('분식', 534),\n",
       " ('일식', 223),\n",
       " ('일식', 52),\n",
       " ('일식', 12),\n",
       " ('아시안', 312),\n",
       " ('패스트푸드', 12),\n",
       " ('패스트푸드', 23)]"
      ]
     },
     "execution_count": 64,
     "metadata": {},
     "output_type": "execute_result"
    }
   ],
   "source": [
    "category_reviews.collect()"
   ]
  },
  {
   "cell_type": "markdown",
   "id": "970a2777-8946-41f3-a22e-8a544f13d11c",
   "metadata": {},
   "source": [
    "map(key, value) -> key, value 전체에 적용<br>\n",
    "mapValues(key, value) -> value에만 적용"
   ]
  },
  {
   "cell_type": "code",
   "execution_count": 41,
   "id": "1e2126ee-d445-4766-8141-28706c9a2096",
   "metadata": {},
   "outputs": [
    {
     "data": {
      "text/plain": [
       "[('중식', (125, 1)),\n",
       " ('중식', (235, 1)),\n",
       " ('분식', (32, 1)),\n",
       " ('분식', (534, 1)),\n",
       " ('일식', (223, 1)),\n",
       " ('일식', (52, 1)),\n",
       " ('일식', (12, 1)),\n",
       " ('아시안', (312, 1)),\n",
       " ('패스트푸드', (12, 1)),\n",
       " ('패스트푸드', (23, 1))]"
      ]
     },
     "execution_count": 41,
     "metadata": {},
     "output_type": "execute_result"
    }
   ],
   "source": [
    "category_review_count = category_reviews.mapValues(lambda x : (x, 1)) # x는 review 개수\n",
    "category_review_count.collect()"
   ]
  },
  {
   "cell_type": "code",
   "execution_count": 43,
   "id": "7b622b24-6f55-438b-b13e-9f40e0428c04",
   "metadata": {},
   "outputs": [
    {
     "data": {
      "text/plain": [
       "[('중식', (360, 2)),\n",
       " ('분식', (566, 2)),\n",
       " ('일식', (287, 3)),\n",
       " ('아시안', (312, 1)),\n",
       " ('패스트푸드', (35, 2))]"
      ]
     },
     "execution_count": 43,
     "metadata": {},
     "output_type": "execute_result"
    }
   ],
   "source": [
    "#같은 key(카테고리)끼리 x와 y의 (리뷰 수 합계, 개수 합계)를 누적\n",
    "#첫번째 중식 x, 두번째 중식 y , [0] 은 리뷰수, [1] 은 개수 -> 같은 키끼리 행을 바꿔가며 계속 누적해 나간다.\n",
    "reduced = category_review_count.reduceByKey(lambda x, y : (x[0] + y[0], x[1] + y[1]))\n",
    "reduced.collect()"
   ]
  },
  {
   "cell_type": "code",
   "execution_count": 45,
   "id": "840d45bf-5584-4064-b514-6d860ccaf622",
   "metadata": {},
   "outputs": [
    {
     "data": {
      "text/plain": [
       "[('중식', 180.0), ('분식', 283.0), ('일식', 95.67), ('아시안', 312.0), ('패스트푸드', 17.5)]"
      ]
     },
     "execution_count": 45,
     "metadata": {},
     "output_type": "execute_result"
    }
   ],
   "source": [
    "average = reduced.mapValues(lambda x : round(x[0]/ x[1], 2))\n",
    "average.collect()"
   ]
  },
  {
   "cell_type": "code",
   "execution_count": 47,
   "id": "a68b0ecb-8eb3-4aa6-a83c-0e9db4cb67eb",
   "metadata": {},
   "outputs": [],
   "source": [
    "# Persist 를 사용하는 경우"
   ]
  },
  {
   "cell_type": "code",
   "execution_count": 65,
   "id": "6d244ef7-8cba-490a-a8fd-8db61a465bc0",
   "metadata": {},
   "outputs": [
    {
     "data": {
      "text/plain": [
       "PythonRDD[6] at RDD at PythonRDD.scala:53"
      ]
     },
     "execution_count": 65,
     "metadata": {},
     "output_type": "execute_result"
    }
   ],
   "source": [
    "categoryReviews = filtered_lines.map(parse).persist() # categoryReviews RDD는 하나만 존재하는 RDD\n",
    "categoryReviews"
   ]
  },
  {
   "cell_type": "code",
   "execution_count": 67,
   "id": "1a8ae568-2138-4619-97a1-7232922eddbd",
   "metadata": {},
   "outputs": [
    {
     "data": {
      "text/plain": [
       "[('중식', 125),\n",
       " ('중식', 235),\n",
       " ('분식', 32),\n",
       " ('분식', 534),\n",
       " ('일식', 223),\n",
       " ('일식', 52),\n",
       " ('일식', 12),\n",
       " ('아시안', 312),\n",
       " ('패스트푸드', 12),\n",
       " ('패스트푸드', 23)]"
      ]
     },
     "execution_count": 67,
     "metadata": {},
     "output_type": "execute_result"
    }
   ],
   "source": [
    "categoryReviews.take(10)"
   ]
  },
  {
   "cell_type": "code",
   "execution_count": 50,
   "id": "1b2ae7af-b599-4124-a92b-92119f46eafd",
   "metadata": {},
   "outputs": [
    {
     "data": {
      "text/plain": [
       "[('중식', (125, 1)),\n",
       " ('중식', (235, 1)),\n",
       " ('분식', (32, 1)),\n",
       " ('분식', (534, 1)),\n",
       " ('일식', (223, 1)),\n",
       " ('일식', (52, 1)),\n",
       " ('일식', (12, 1)),\n",
       " ('아시안', (312, 1)),\n",
       " ('패스트푸드', (12, 1)),\n",
       " ('패스트푸드', (23, 1))]"
      ]
     },
     "execution_count": 50,
     "metadata": {},
     "output_type": "execute_result"
    }
   ],
   "source": [
    "categoryReviews.mapValues(lambda x : (x, 1)).collect()"
   ]
  },
  {
   "cell_type": "code",
   "execution_count": 51,
   "id": "64297f98-9fe2-477a-8f87-1322a821c40a",
   "metadata": {},
   "outputs": [
    {
     "data": {
      "text/plain": [
       "[('중식', 360), ('분식', 566), ('일식', 287), ('아시안', 312), ('패스트푸드', 35)]"
      ]
     },
     "execution_count": 51,
     "metadata": {},
     "output_type": "execute_result"
    }
   ],
   "source": [
    "categoryReviews \\\n",
    "    .reduceByKey(lambda a, b: a + b) \\\n",
    "    .collect()"
   ]
  },
  {
   "cell_type": "code",
   "execution_count": 68,
   "id": "ede175d0-cc7e-429f-afa3-32a8f4cf2631",
   "metadata": {},
   "outputs": [
    {
     "data": {
      "text/plain": [
       "PythonRDD[6] at RDD at PythonRDD.scala:53"
      ]
     },
     "execution_count": 68,
     "metadata": {},
     "output_type": "execute_result"
    }
   ],
   "source": [
    "categoryReviews.unpersist()"
   ]
  },
  {
   "cell_type": "code",
   "execution_count": 55,
   "id": "a88fb07d-7d4f-4dd2-a2a3-552eeb4baf21",
   "metadata": {},
   "outputs": [],
   "source": [
    "spark.stop()\n",
    "sc.stop()"
   ]
  },
  {
   "cell_type": "code",
   "execution_count": 69,
   "id": "e22edab7-1ade-4439-b015-e1de428ea3d0",
   "metadata": {},
   "outputs": [
    {
     "data": {
      "text/plain": [
       "PythonRDD[6] at RDD at PythonRDD.scala:53"
      ]
     },
     "execution_count": 69,
     "metadata": {},
     "output_type": "execute_result"
    }
   ],
   "source": [
    "from pyspark import StorageLevel\n",
    "categoryReviews.persist(StorageLevel.MEMORY_AND_DISK)"
   ]
  },
  {
   "cell_type": "code",
   "execution_count": 70,
   "id": "0e66a425-2242-4ec7-8ebb-4f531bdf67c6",
   "metadata": {},
   "outputs": [
    {
     "data": {
      "text/plain": [
       "[('중식', 125), ('중식', 235), ('분식', 32)]"
      ]
     },
     "execution_count": 70,
     "metadata": {},
     "output_type": "execute_result"
    }
   ],
   "source": [
    "categoryReviews.take(3)"
   ]
  },
  {
   "cell_type": "code",
   "execution_count": 71,
   "id": "0c042b32-5e6a-4a63-a233-f4f7b35a133e",
   "metadata": {},
   "outputs": [
    {
     "data": {
      "text/plain": [
       "PythonRDD[6] at RDD at PythonRDD.scala:53"
      ]
     },
     "execution_count": 71,
     "metadata": {},
     "output_type": "execute_result"
    }
   ],
   "source": [
    "categoryReviews.unpersist()"
   ]
  },
  {
   "cell_type": "code",
   "execution_count": null,
   "id": "6c9b1574-7977-4db3-817e-452d0a9060d7",
   "metadata": {
    "jp-MarkdownHeadingCollapsed": true
   },
   "outputs": [],
   "source": [
    "# Narrow Transformations\n",
    "1:1 변환 -> 하나의 열을 다룰 때 다른 데이터가 필요 없는 경우\n",
    "filter(), map(), flatMap(), sample(), union()\n",
    "\n",
    "# wide transformations"
   ]
  },
  {
   "cell_type": "markdown",
   "id": "ed564285-223b-4751-a260-2438f91bb59f",
   "metadata": {},
   "source": [
    "# flatMap()"
   ]
  },
  {
   "cell_type": "code",
   "execution_count": 72,
   "id": "b6c92b68-2efa-46b9-8127-b27c87bd1b90",
   "metadata": {},
   "outputs": [
    {
     "data": {
      "text/plain": [
       "[[1, 2], [2, 3], [3, 4]]"
      ]
     },
     "execution_count": 72,
     "metadata": {},
     "output_type": "execute_result"
    }
   ],
   "source": [
    "rdd = sc.parallelize([1, 2, 3])\n",
    "rdd_map = rdd.map(lambda x: [x, x + 1])  # => [[1, 2], [2, 3], [3, 4]]\n",
    "rdd_map.collect()"
   ]
  },
  {
   "cell_type": "code",
   "execution_count": 73,
   "id": "c7d4d854-4153-4921-a755-e79edb58d286",
   "metadata": {},
   "outputs": [
    {
     "data": {
      "text/plain": [
       "[1, 2, 2, 3, 3, 4]"
      ]
     },
     "execution_count": 73,
     "metadata": {},
     "output_type": "execute_result"
    }
   ],
   "source": [
    "rdd_flatmap = rdd.flatMap(lambda x: [x, x + 1])  # => [1, 2, 2, 3, 3, 4]\n",
    "rdd_flatmap.collect()"
   ]
  },
  {
   "cell_type": "code",
   "execution_count": 74,
   "id": "7224dae0-e998-434f-aee6-fbc5e8e149ee",
   "metadata": {},
   "outputs": [],
   "source": [
    "movies = [\n",
    "    \"그린 북\",\n",
    "    \"매트릭스\",\n",
    "    \"토이 스토리\",\n",
    "    \"캐스트 어웨이\",\n",
    "    \"포드 V 페라리\",\n",
    "    \"보헤미안 랩소디\",\n",
    "    \"빽 투 더 퓨처\",\n",
    "    \"반지의 제왕\",\n",
    "    \"죽은 시인의 사회\"\n",
    "]"
   ]
  },
  {
   "cell_type": "code",
   "execution_count": 75,
   "id": "8611b10b-d304-4511-8131-95af6b50a4b9",
   "metadata": {},
   "outputs": [
    {
     "data": {
      "text/plain": [
       "['그린 북', '매트릭스', '토이 스토리', '캐스트 어웨이', '포드 V 페라리']"
      ]
     },
     "execution_count": 75,
     "metadata": {},
     "output_type": "execute_result"
    }
   ],
   "source": [
    "moviesRDD = sc.parallelize(movies)\n",
    "moviesRDD.take(5)"
   ]
  },
  {
   "cell_type": "code",
   "execution_count": 76,
   "id": "ffb69d44-3d48-4c34-8a23-0f24e7497854",
   "metadata": {},
   "outputs": [
    {
     "data": {
      "text/plain": [
       "[['그린', '북'], ['매트릭스'], ['토이', '스토리'], ['캐스트', '어웨이'], ['포드', 'V', '페라리']]"
      ]
     },
     "execution_count": 76,
     "metadata": {},
     "output_type": "execute_result"
    }
   ],
   "source": [
    "movies_map = moviesRDD.map(lambda x : x.split(' '))\n",
    "movies_map.take(5)"
   ]
  },
  {
   "cell_type": "code",
   "execution_count": 77,
   "id": "75e1b5b8-a984-4213-92d1-cf55ecae6ccb",
   "metadata": {},
   "outputs": [
    {
     "data": {
      "text/plain": [
       "['그린', '북', '매트릭스', '토이', '스토리']"
      ]
     },
     "execution_count": 77,
     "metadata": {},
     "output_type": "execute_result"
    }
   ],
   "source": [
    "movies_flatmap = moviesRDD.flatMap(lambda x : x.split(' '))\n",
    "movies_flatmap.take(5)"
   ]
  },
  {
   "cell_type": "code",
   "execution_count": null,
   "id": "ee2bd9a7-d87f-469a-90f9-d9d75d2c2b23",
   "metadata": {},
   "outputs": [],
   "source": [
    "# 집합 Transformation"
   ]
  },
  {
   "cell_type": "code",
   "execution_count": 78,
   "id": "e79f7da6-a3b3-420e-b17e-316b45cc5f4f",
   "metadata": {},
   "outputs": [],
   "source": [
    "num1 = sc.parallelize([1,2,3,4,5])\n",
    "num2 = sc.parallelize([4,5,6,7,8,9,10])"
   ]
  },
  {
   "cell_type": "code",
   "execution_count": 79,
   "id": "1a153c12-0edb-4d00-b924-227dcf9eef5c",
   "metadata": {},
   "outputs": [
    {
     "data": {
      "text/plain": [
       "[4, 5]"
      ]
     },
     "execution_count": 79,
     "metadata": {},
     "output_type": "execute_result"
    }
   ],
   "source": [
    "num1.intersection(num2).collect()"
   ]
  },
  {
   "cell_type": "code",
   "execution_count": null,
   "id": "a72954bd-b79b-4aa7-baba-e193048b76a6",
   "metadata": {},
   "outputs": [],
   "source": [
    "# 합집합 구하기 - union"
   ]
  },
  {
   "cell_type": "code",
   "execution_count": 84,
   "id": "0f059ad5-6010-4158-8d54-328934a31066",
   "metadata": {},
   "outputs": [
    {
     "data": {
      "text/plain": [
       "[1, 2, 3, 4, 5, 4, 5, 6, 7, 8, 9, 10]"
      ]
     },
     "execution_count": 84,
     "metadata": {},
     "output_type": "execute_result"
    }
   ],
   "source": [
    "num1.union(num2).collect()"
   ]
  },
  {
   "cell_type": "code",
   "execution_count": null,
   "id": "ed20ba2e-70eb-4772-8164-9a99188305ed",
   "metadata": {},
   "outputs": [],
   "source": [
    "# 차집합 구하기 - subtract"
   ]
  },
  {
   "cell_type": "code",
   "execution_count": 81,
   "id": "c38757f3-554d-41d1-b5dd-a36d10f6b0b5",
   "metadata": {},
   "outputs": [
    {
     "data": {
      "text/plain": [
       "[1, 2, 3]"
      ]
     },
     "execution_count": 81,
     "metadata": {},
     "output_type": "execute_result"
    }
   ],
   "source": [
    "num1.subtract(num2).collect()"
   ]
  },
  {
   "cell_type": "code",
   "execution_count": 87,
   "id": "293d7bc3-bb7d-43f1-a116-f0f7ea1601ca",
   "metadata": {},
   "outputs": [],
   "source": [
    "num_union = num1.union(num2)"
   ]
  },
  {
   "cell_type": "code",
   "execution_count": 103,
   "id": "610e4ae7-391d-450b-a999-5959b084530b",
   "metadata": {},
   "outputs": [
    {
     "data": {
      "text/plain": [
       "[1, 1, 3, 3, 5, 7, 8, 9, 10]"
      ]
     },
     "execution_count": 103,
     "metadata": {},
     "output_type": "execute_result"
    }
   ],
   "source": [
    "# 데이터 랜덤 추출 - sample(withReplacement, fraction, seed=None)\n",
    "# withReplacement : True -> 중복 추출\n",
    "num_union.sample(True, 0.7).collect()"
   ]
  },
  {
   "cell_type": "code",
   "execution_count": 101,
   "id": "dfecd819-1a19-4884-837d-285ac977333e",
   "metadata": {},
   "outputs": [
    {
     "data": {
      "text/plain": [
       "[1, 5, 4, 7, 8, 9]"
      ]
     },
     "execution_count": 101,
     "metadata": {},
     "output_type": "execute_result"
    }
   ],
   "source": [
    "# withReplacement : False -> 중복 X\n",
    "num_union.sample(False, 0.7).collect()"
   ]
  },
  {
   "cell_type": "code",
   "execution_count": 106,
   "id": "29478861-de8b-47b3-9f05-4aaa3bab4882",
   "metadata": {},
   "outputs": [
    {
     "data": {
      "text/plain": [
       "[4, 5, 5, 5, 7]"
      ]
     },
     "execution_count": 106,
     "metadata": {},
     "output_type": "execute_result"
    }
   ],
   "source": [
    "# 랜덤을 고정해서 항상 같은 결과가 나올 수 있도록\n",
    "num_union.sample(True, 0.5, seed=42).collect()"
   ]
  },
  {
   "cell_type": "code",
   "execution_count": 85,
   "id": "4aee6ed7-db71-4646-9204-f0c24fe233b2",
   "metadata": {},
   "outputs": [
    {
     "data": {
      "text/plain": [
       "ParallelCollectionRDD[61] at readRDDFromFile at PythonRDD.scala:289"
      ]
     },
     "execution_count": 85,
     "metadata": {},
     "output_type": "execute_result"
    }
   ],
   "source": [
    "foods = sc.parallelize([\n",
    "    \"짜장면\", \"마라탕\", \"짬뽕\", \"떡볶이\", \"쌀국수\", \"짬뽕\", \"짜장면\", \"짜장면\", \"짜장면\", \"라면\", \"우동\", \"라면\"\n",
    "])\n",
    "foods"
   ]
  },
  {
   "cell_type": "code",
   "execution_count": 86,
   "id": "4640f611-63ac-489d-9816-84cbbb2bb5fc",
   "metadata": {},
   "outputs": [
    {
     "data": {
      "text/plain": [
       "[('짜', <pyspark.resultiterable.ResultIterable at 0x7ff5daa83710>),\n",
       " ('짬', <pyspark.resultiterable.ResultIterable at 0x7ff5d9ab0850>),\n",
       " ('쌀', <pyspark.resultiterable.ResultIterable at 0x7ff5d9703890>),\n",
       " ('라', <pyspark.resultiterable.ResultIterable at 0x7ff5d9943590>),\n",
       " ('우', <pyspark.resultiterable.ResultIterable at 0x7ff5d97035d0>),\n",
       " ('마', <pyspark.resultiterable.ResultIterable at 0x7ff5d97034d0>),\n",
       " ('떡', <pyspark.resultiterable.ResultIterable at 0x7ff5d9703550>)]"
      ]
     },
     "execution_count": 86,
     "metadata": {},
     "output_type": "execute_result"
    }
   ],
   "source": [
    "foodsGroup = foods.groupBy(lambda x : x[0])\n",
    "foodsGroup.collect()"
   ]
  },
  {
   "cell_type": "code",
   "execution_count": 107,
   "id": "cf52480f-f5ed-4feb-b441-306f7e6db79d",
   "metadata": {},
   "outputs": [
    {
     "name": "stdout",
     "output_type": "stream",
     "text": [
      "짜 ['짜장면', '짜장면', '짜장면', '짜장면']\n",
      "짬 ['짬뽕', '짬뽕']\n",
      "쌀 ['쌀국수']\n",
      "라 ['라면', '라면']\n",
      "우 ['우동']\n",
      "마 ['마라탕']\n",
      "떡 ['떡볶이']\n"
     ]
    }
   ],
   "source": [
    "res = foodsGroup.collect()\n",
    "\n",
    "for (k, v) in res:\n",
    "    print(k, list(v))"
   ]
  },
  {
   "cell_type": "code",
   "execution_count": 122,
   "id": "b6c3c427-6615-41b1-bbb4-65bcc3af868a",
   "metadata": {},
   "outputs": [],
   "source": [
    "kv_rdd = sc.parallelize([(\"apple\", 1), (\"banana\", 2), (\"cherry\", 3), (\"banana\",4)])"
   ]
  },
  {
   "cell_type": "code",
   "execution_count": 127,
   "id": "1f2b9450-8953-4479-b9c4-a8a5d6d80d86",
   "metadata": {},
   "outputs": [
    {
     "name": "stdout",
     "output_type": "stream",
     "text": [
      "apple [('apple', 1)]\n",
      "banana [('banana', 2), ('banana', 4)]\n",
      "cherry [('cherry', 3)]\n"
     ]
    }
   ],
   "source": [
    "grouped_rdd = kv_rdd.groupByKey()\n",
    "res = kvGroup.collect()\n",
    "\n",
    "for (k, v) in res:\n",
    "    print(k, list(v))"
   ]
  },
  {
   "cell_type": "code",
   "execution_count": 124,
   "id": "a55cc934-162b-437f-9990-a74ca7dfdbf2",
   "metadata": {},
   "outputs": [
    {
     "data": {
      "text/plain": [
       "[('apple', 1), ('banana', 6), ('cherry', 3)]"
      ]
     },
     "execution_count": 124,
     "metadata": {},
     "output_type": "execute_result"
    }
   ],
   "source": [
    "reduced_rdd = kv_rdd.reduceByKey(lambda x,y : x+y)\n",
    "reduced_rdd.collect()"
   ]
  },
  {
   "cell_type": "code",
   "execution_count": 132,
   "id": "af117811-81fb-41d2-92b8-51ec257c7d77",
   "metadata": {},
   "outputs": [],
   "source": [
    "rdd1 = sc.parallelize([(\"apple\", 2), (\"banana\", 1), (\"cherry\", 3)])\n",
    "rdd2 = sc.parallelize([(\"apple\", \"fruit\"), (\"banana\", \"fruit\"), (\"carrot\", \"vegetable\")])"
   ]
  },
  {
   "cell_type": "code",
   "execution_count": 133,
   "id": "1f2f4378-af58-4544-8693-2e4016dfed52",
   "metadata": {},
   "outputs": [
    {
     "name": "stdout",
     "output_type": "stream",
     "text": [
      "[('apple', (2, 'fruit')), ('banana', (1, 'fruit'))]\n"
     ]
    }
   ],
   "source": [
    "joined_rdd = rdd1.join(rdd2)\n",
    "print(joined_rdd.collect())"
   ]
  },
  {
   "cell_type": "code",
   "execution_count": 134,
   "id": "d591ee47-5d49-42f0-a314-cc11416167b5",
   "metadata": {},
   "outputs": [
    {
     "name": "stdout",
     "output_type": "stream",
     "text": [
      "[('apple', (2, 'fruit')), ('banana', (1, 'fruit')), ('cherry', (3, None))]\n"
     ]
    }
   ],
   "source": [
    "left_joined = rdd1.leftOuterJoin(rdd2)\n",
    "print(left_joined.collect())"
   ]
  },
  {
   "cell_type": "code",
   "execution_count": 135,
   "id": "49ec0eb8-22cf-413a-82ad-0196042d9987",
   "metadata": {},
   "outputs": [
    {
     "name": "stdout",
     "output_type": "stream",
     "text": [
      "[('apple', (2, 'fruit')), ('banana', (1, 'fruit')), ('carrot', (None, 'vegetable'))]\n"
     ]
    }
   ],
   "source": [
    "right_joined = rdd1.rightOuterJoin(rdd2)\n",
    "print(right_joined.collect())"
   ]
  },
  {
   "cell_type": "code",
   "execution_count": 136,
   "id": "ba6ab2ff-4aaf-4596-b24e-47e11cd75f62",
   "metadata": {},
   "outputs": [
    {
     "name": "stdout",
     "output_type": "stream",
     "text": [
      "[('cherry', 3)]\n"
     ]
    }
   ],
   "source": [
    "subtract_result = rdd1.subtractByKey(rdd2)\n",
    "print(subtract_result.collect())"
   ]
  },
  {
   "cell_type": "code",
   "execution_count": 140,
   "id": "e5eda15d-a837-4f6f-a786-de0ab24b90a0",
   "metadata": {},
   "outputs": [],
   "source": [
    "spark.stop()\n",
    "sc.stop()"
   ]
  },
  {
   "cell_type": "code",
   "execution_count": null,
   "id": "ea151b18-0a52-4c8f-b49f-4fff31533523",
   "metadata": {},
   "outputs": [],
   "source": []
  },
  {
   "cell_type": "code",
   "execution_count": null,
   "id": "ce80226d-b7e2-4429-a8b9-64ea3ada74a3",
   "metadata": {},
   "outputs": [],
   "source": []
  },
  {
   "cell_type": "code",
   "execution_count": null,
   "id": "89b36309-2c0f-4d46-927f-c84e386ab77d",
   "metadata": {},
   "outputs": [],
   "source": []
  }
 ],
 "metadata": {
  "kernelspec": {
   "display_name": "Python 3 (ipykernel)",
   "language": "python",
   "name": "python3"
  },
  "language_info": {
   "codemirror_mode": {
    "name": "ipython",
    "version": 3
   },
   "file_extension": ".py",
   "mimetype": "text/x-python",
   "name": "python",
   "nbconvert_exporter": "python",
   "pygments_lexer": "ipython3",
   "version": "3.11.6"
  }
 },
 "nbformat": 4,
 "nbformat_minor": 5
}
