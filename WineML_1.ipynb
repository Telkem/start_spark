{
 "cells": [
  {
   "cell_type": "markdown",
   "id": "5f042ab6-2a27-4008-9375-d431122e13a7",
   "metadata": {
    "editable": true,
    "slideshow": {
     "slide_type": ""
    },
    "tags": []
   },
   "source": [
    "# 와인 품질 분류 모델 만들기\n",
    "데이터 출처 : https://www.kaggle.com/datasets/taweilo/wine-quality-dataset-balanced-classification"
   ]
  },
  {
   "cell_type": "code",
   "execution_count": 1,
   "id": "6a018bb3-5f40-423f-858f-075eaa4dc753",
   "metadata": {
    "editable": true,
    "slideshow": {
     "slide_type": ""
    },
    "tags": []
   },
   "outputs": [],
   "source": [
    "from pyspark.sql import SparkSession\n",
    "\n",
    "spark = SparkSession.builder.appName(\"wine_quality_model\").getOrCreate()"
   ]
  },
  {
   "cell_type": "code",
   "execution_count": 2,
   "id": "7a6114b8-ceaa-4abc-94a9-33d964a75913",
   "metadata": {
    "editable": true,
    "slideshow": {
     "slide_type": ""
    },
    "tags": []
   },
   "outputs": [
    {
     "data": {
      "text/plain": [
       "'file:////home/jovyan/work/start_spark/learning_spark_data/wine_data.csv'"
      ]
     },
     "execution_count": 2,
     "metadata": {},
     "output_type": "execute_result"
    }
   ],
   "source": [
    "file_path = 'file:////home/jovyan/work/start_spark/learning_spark_data/wine_data.csv'\n",
    "file_path"
   ]
  },
  {
   "cell_type": "code",
   "execution_count": 16,
   "id": "e99ec387-0283-459b-9a22-016dade7060c",
   "metadata": {
    "editable": true,
    "slideshow": {
     "slide_type": ""
    },
    "tags": []
   },
   "outputs": [
    {
     "name": "stdout",
     "output_type": "stream",
     "text": [
      "root\n",
      " |-- fixed_acidity: double (nullable = true)\n",
      " |-- volatile_acidity: double (nullable = true)\n",
      " |-- citric_acid: double (nullable = true)\n",
      " |-- residual_sugar: double (nullable = true)\n",
      " |-- chlorides: double (nullable = true)\n",
      " |-- free_sulfur_dioxide: double (nullable = true)\n",
      " |-- total_sulfur_dioxide: double (nullable = true)\n",
      " |-- density: double (nullable = true)\n",
      " |-- pH: double (nullable = true)\n",
      " |-- sulphates: double (nullable = true)\n",
      " |-- alcohol: double (nullable = true)\n",
      " |-- quality: integer (nullable = true)\n",
      "\n"
     ]
    }
   ],
   "source": [
    "df = spark.read.csv(file_path, inferSchema=True, header=True)\n",
    "df.printSchema()"
   ]
  },
  {
   "cell_type": "code",
   "execution_count": 4,
   "id": "f3cf59eb-bb7c-4bb8-81ff-a70ffc0038e6",
   "metadata": {
    "editable": true,
    "slideshow": {
     "slide_type": ""
    },
    "tags": []
   },
   "outputs": [
    {
     "name": "stdout",
     "output_type": "stream",
     "text": [
      "+-------------+----------------+-----------+--------------+---------+-------------------+--------------------+-------+----+---------+-------+-------+\n",
      "|fixed_acidity|volatile_acidity|citric_acid|residual_sugar|chlorides|free_sulfur_dioxide|total_sulfur_dioxide|density|  pH|sulphates|alcohol|quality|\n",
      "+-------------+----------------+-----------+--------------+---------+-------------------+--------------------+-------+----+---------+-------+-------+\n",
      "|         11.6|            0.58|       0.66|           2.2|    0.074|               10.0|                47.0| 1.0008|3.25|     0.57|    9.0|      3|\n",
      "|         10.4|            0.61|       0.49|           2.1|      0.2|                5.0|                16.0| 0.9994|3.16|     0.63|    8.4|      3|\n",
      "|          7.4|           1.185|        0.0|          4.25|    0.097|                5.0|                14.0| 0.9966|3.63|     0.54|   10.7|      3|\n",
      "|         10.4|            0.44|       0.42|           1.5|    0.145|               34.0|                48.0|0.99832|3.38|     0.86|    9.9|      3|\n",
      "|          8.3|            1.02|       0.02|           3.4|    0.084|                6.0|                11.0|0.99892|3.48|     0.49|   11.0|      3|\n",
      "+-------------+----------------+-----------+--------------+---------+-------------------+--------------------+-------+----+---------+-------+-------+\n",
      "only showing top 5 rows\n",
      "\n"
     ]
    }
   ],
   "source": [
    "df.show(5)"
   ]
  },
  {
   "cell_type": "code",
   "execution_count": 5,
   "id": "92a4115f-cb63-4cb4-b111-883fbd87e175",
   "metadata": {
    "editable": true,
    "slideshow": {
     "slide_type": ""
    },
    "tags": []
   },
   "outputs": [
    {
     "name": "stdout",
     "output_type": "stream",
     "text": [
      "+-------------+----------------+-----------+--------------+---------+-------------------+--------------------+-------+---+---------+-------+-------+\n",
      "|fixed_acidity|volatile_acidity|citric_acid|residual_sugar|chlorides|free_sulfur_dioxide|total_sulfur_dioxide|density| pH|sulphates|alcohol|quality|\n",
      "+-------------+----------------+-----------+--------------+---------+-------------------+--------------------+-------+---+---------+-------+-------+\n",
      "|            0|               0|          0|             0|        0|                  0|                   0|      0|  0|        0|      0|      0|\n",
      "+-------------+----------------+-----------+--------------+---------+-------------------+--------------------+-------+---+---------+-------+-------+\n",
      "\n"
     ]
    }
   ],
   "source": [
    "from pyspark.sql.functions import col, sum, when, isnan\n",
    "null_counts = df.select(\n",
    "                    [\n",
    "                        sum(when(col(c).isNull() | isnan(c), 1).otherwise(0)).alias(c)\n",
    "                        for c in df.columns\n",
    "                    ]\n",
    "                )\n",
    "null_counts.show()"
   ]
  },
  {
   "cell_type": "code",
   "execution_count": 8,
   "id": "fe306387-af93-41d4-b573-88fc27de408c",
   "metadata": {
    "editable": true,
    "slideshow": {
     "slide_type": ""
    },
    "tags": []
   },
   "outputs": [],
   "source": [
    "from pyspark.ml.regression import LinearRegression\n",
    "from pyspark.ml.classification import LogisticRegression\n",
    "from pyspark.ml.evaluation import BinaryClassificationEvaluator\n",
    "from pyspark.ml.feature import VectorAssembler, StringIndexer, OneHotEncoder, StandardScaler"
   ]
  },
  {
   "cell_type": "code",
   "execution_count": 9,
   "id": "a2116827-4bb0-48a3-bb1f-37339f51b08e",
   "metadata": {
    "editable": true,
    "slideshow": {
     "slide_type": ""
    },
    "tags": []
   },
   "outputs": [],
   "source": [
    "train_data, test_data = df.randomSplit([0.8,0.2], seed=64)"
   ]
  },
  {
   "cell_type": "code",
   "execution_count": 7,
   "id": "a7785cf6-54f8-4792-b70c-4671d3c8ddb6",
   "metadata": {
    "editable": true,
    "slideshow": {
     "slide_type": ""
    },
    "tags": []
   },
   "outputs": [],
   "source": [
    "stages = []"
   ]
  },
  {
   "cell_type": "code",
   "execution_count": 20,
   "id": "7a3b8e4e-b16d-46f1-9d73-3aa14e43fd3f",
   "metadata": {},
   "outputs": [
    {
     "data": {
      "text/plain": [
       "['fixed_acidity',\n",
       " 'volatile_acidity',\n",
       " 'citric_acid',\n",
       " 'residual_sugar',\n",
       " 'chlorides',\n",
       " 'free_sulfur_dioxide',\n",
       " 'total_sulfur_dioxide',\n",
       " 'density',\n",
       " 'pH',\n",
       " 'sulphates',\n",
       " 'alcohol']"
      ]
     },
     "execution_count": 20,
     "metadata": {},
     "output_type": "execute_result"
    }
   ],
   "source": [
    "df_c = df.columns\n",
    "df_c.pop(-1)\n",
    "df_c"
   ]
  },
  {
   "cell_type": "code",
   "execution_count": 21,
   "id": "38581951-821f-40ef-9ebb-595d43d7ad5d",
   "metadata": {
    "editable": true,
    "slideshow": {
     "slide_type": ""
    },
    "tags": []
   },
   "outputs": [
    {
     "data": {
      "text/plain": [
       "[VectorAssembler_439d209c77a8,\n",
       " StandardScaler_fc973bb0a6cd,\n",
       " VectorAssembler_e4ce8b2bff3e,\n",
       " StandardScaler_29dd79f175fe,\n",
       " VectorAssembler_a95d92cc1a48,\n",
       " StandardScaler_5d9fc20e8cd7,\n",
       " VectorAssembler_e1b99ef2e119,\n",
       " StandardScaler_18c6276eb92e,\n",
       " VectorAssembler_6fcd1afef2ff,\n",
       " StandardScaler_14a3e9947f01,\n",
       " VectorAssembler_64d7d954a3ab,\n",
       " StandardScaler_e4322e8fa258,\n",
       " VectorAssembler_001ca225b02d,\n",
       " StandardScaler_c50e8e1d20b7,\n",
       " VectorAssembler_ac032890db49,\n",
       " StandardScaler_1d6f501a3558,\n",
       " VectorAssembler_64ba0204c4a4,\n",
       " StandardScaler_5bc4c4a002c2,\n",
       " VectorAssembler_2527aa90ac16,\n",
       " StandardScaler_ea8e815b964f,\n",
       " VectorAssembler_b0e43bc41d35,\n",
       " StandardScaler_18bd1af699a5]"
      ]
     },
     "execution_count": 21,
     "metadata": {},
     "output_type": "execute_result"
    }
   ],
   "source": [
    "num_features = df_c\n",
    "for num in num_features:\n",
    "    num_assembler = VectorAssembler(inputCols=[num], outputCol=num+'_vector')\n",
    "    num_scaler = StandardScaler(inputCol=num_assembler.getOutputCol(), outputCol=num+'_scaled')\n",
    "    stages += [num_assembler, num_scaler]\n",
    "stages"
   ]
  },
  {
   "cell_type": "code",
   "execution_count": 22,
   "id": "23e870cd-0b89-4d8b-9850-45952b8f621a",
   "metadata": {
    "editable": true,
    "slideshow": {
     "slide_type": ""
    },
    "tags": []
   },
   "outputs": [
    {
     "data": {
      "text/plain": [
       "['fixed_acidity_scaled',\n",
       " 'volatile_acidity_scaled',\n",
       " 'citric_acid_scaled',\n",
       " 'residual_sugar_scaled',\n",
       " 'chlorides_scaled',\n",
       " 'free_sulfur_dioxide_scaled',\n",
       " 'total_sulfur_dioxide_scaled',\n",
       " 'density_scaled',\n",
       " 'pH_scaled',\n",
       " 'sulphates_scaled',\n",
       " 'alcohol_scaled']"
      ]
     },
     "execution_count": 22,
     "metadata": {},
     "output_type": "execute_result"
    }
   ],
   "source": [
    "assembler_input = [num+'_scaled' for num in num_features]\n",
    "assembler_input"
   ]
  },
  {
   "cell_type": "code",
   "execution_count": 23,
   "id": "bf6a48e0-6b6e-43c0-afb6-ff2e0c87d996",
   "metadata": {
    "editable": true,
    "slideshow": {
     "slide_type": ""
    },
    "tags": []
   },
   "outputs": [
    {
     "data": {
      "text/plain": [
       "[VectorAssembler_439d209c77a8,\n",
       " StandardScaler_fc973bb0a6cd,\n",
       " VectorAssembler_e4ce8b2bff3e,\n",
       " StandardScaler_29dd79f175fe,\n",
       " VectorAssembler_a95d92cc1a48,\n",
       " StandardScaler_5d9fc20e8cd7,\n",
       " VectorAssembler_e1b99ef2e119,\n",
       " StandardScaler_18c6276eb92e,\n",
       " VectorAssembler_6fcd1afef2ff,\n",
       " StandardScaler_14a3e9947f01,\n",
       " VectorAssembler_64d7d954a3ab,\n",
       " StandardScaler_e4322e8fa258,\n",
       " VectorAssembler_001ca225b02d,\n",
       " StandardScaler_c50e8e1d20b7,\n",
       " VectorAssembler_ac032890db49,\n",
       " StandardScaler_1d6f501a3558,\n",
       " VectorAssembler_64ba0204c4a4,\n",
       " StandardScaler_5bc4c4a002c2,\n",
       " VectorAssembler_2527aa90ac16,\n",
       " StandardScaler_ea8e815b964f,\n",
       " VectorAssembler_b0e43bc41d35,\n",
       " StandardScaler_18bd1af699a5,\n",
       " VectorAssembler_700d359f0ceb]"
      ]
     },
     "execution_count": 23,
     "metadata": {},
     "output_type": "execute_result"
    }
   ],
   "source": [
    "assembler = VectorAssembler(\n",
    "    inputCols= assembler_input,\n",
    "    outputCol= 'feature_vector'\n",
    ")\n",
    "stages += [assembler]\n",
    "stages"
   ]
  },
  {
   "cell_type": "code",
   "execution_count": 24,
   "id": "2d92ea08-b86e-4587-9945-2a84f7cac60e",
   "metadata": {
    "editable": true,
    "slideshow": {
     "slide_type": ""
    },
    "tags": []
   },
   "outputs": [
    {
     "name": "stdout",
     "output_type": "stream",
     "text": [
      "root\n",
      " |-- fixed_acidity: double (nullable = true)\n",
      " |-- volatile_acidity: double (nullable = true)\n",
      " |-- citric_acid: double (nullable = true)\n",
      " |-- residual_sugar: double (nullable = true)\n",
      " |-- chlorides: double (nullable = true)\n",
      " |-- free_sulfur_dioxide: double (nullable = true)\n",
      " |-- total_sulfur_dioxide: double (nullable = true)\n",
      " |-- density: double (nullable = true)\n",
      " |-- pH: double (nullable = true)\n",
      " |-- sulphates: double (nullable = true)\n",
      " |-- alcohol: double (nullable = true)\n",
      " |-- quality: integer (nullable = true)\n",
      " |-- fixed_acidity_vector: vector (nullable = true)\n",
      " |-- fixed_acidity_scaled: vector (nullable = true)\n",
      " |-- volatile_acidity_vector: vector (nullable = true)\n",
      " |-- volatile_acidity_scaled: vector (nullable = true)\n",
      " |-- citric_acid_vector: vector (nullable = true)\n",
      " |-- citric_acid_scaled: vector (nullable = true)\n",
      " |-- residual_sugar_vector: vector (nullable = true)\n",
      " |-- residual_sugar_scaled: vector (nullable = true)\n",
      " |-- chlorides_vector: vector (nullable = true)\n",
      " |-- chlorides_scaled: vector (nullable = true)\n",
      " |-- free_sulfur_dioxide_vector: vector (nullable = true)\n",
      " |-- free_sulfur_dioxide_scaled: vector (nullable = true)\n",
      " |-- total_sulfur_dioxide_vector: vector (nullable = true)\n",
      " |-- total_sulfur_dioxide_scaled: vector (nullable = true)\n",
      " |-- density_vector: vector (nullable = true)\n",
      " |-- density_scaled: vector (nullable = true)\n",
      " |-- pH_vector: vector (nullable = true)\n",
      " |-- pH_scaled: vector (nullable = true)\n",
      " |-- sulphates_vector: vector (nullable = true)\n",
      " |-- sulphates_scaled: vector (nullable = true)\n",
      " |-- alcohol_vector: vector (nullable = true)\n",
      " |-- alcohol_scaled: vector (nullable = true)\n",
      " |-- feature_vector: vector (nullable = true)\n",
      "\n"
     ]
    }
   ],
   "source": [
    "from pyspark.ml import Pipeline\n",
    "pipeline = Pipeline(stages=stages)\n",
    "fitted_transform = pipeline.fit(train_data)\n",
    "vtrain_data = fitted_transform.transform(train_data)\n",
    "vtrain_data.printSchema()"
   ]
  },
  {
   "cell_type": "code",
   "execution_count": 25,
   "id": "23722faa-0f90-45b4-928d-41ff7a0dbb8e",
   "metadata": {
    "editable": true,
    "slideshow": {
     "slide_type": ""
    },
    "tags": []
   },
   "outputs": [
    {
     "name": "stdout",
     "output_type": "stream",
     "text": [
      "+--------------------+-------+\n",
      "|      feature_vector|quality|\n",
      "+--------------------+-------+\n",
      "|[1.57187400796699...|      6|\n",
      "|[1.61323911343980...|      8|\n",
      "|[1.73733442985825...|      7|\n",
      "+--------------------+-------+\n",
      "only showing top 3 rows\n",
      "\n"
     ]
    }
   ],
   "source": [
    "vtrain_data.select('feature_vector', 'quality').show(3)"
   ]
  },
  {
   "cell_type": "code",
   "execution_count": 32,
   "id": "a1501037-30ba-4555-8604-7a1937c374a9",
   "metadata": {
    "editable": true,
    "slideshow": {
     "slide_type": ""
    },
    "tags": []
   },
   "outputs": [],
   "source": [
    "lr = LogisticRegression(featuresCol='feature_vector', labelCol='quality')\n",
    "lr_model = lr.fit(vtrain_data)"
   ]
  },
  {
   "cell_type": "code",
   "execution_count": 33,
   "id": "9f2de53a-4ef9-43f6-97ed-132db128f295",
   "metadata": {
    "editable": true,
    "slideshow": {
     "slide_type": ""
    },
    "tags": []
   },
   "outputs": [],
   "source": [
    "#테스트데이터도 변환\n",
    "vtest_data = fitted_transform.transform(test_data)\n",
    "#테스트데이터로 예측\n",
    "pred = lr_model.transform(vtest_data)"
   ]
  },
  {
   "cell_type": "code",
   "execution_count": 34,
   "id": "a5c23f5f-aa2a-4b4b-91ff-834c19df37e3",
   "metadata": {
    "editable": true,
    "slideshow": {
     "slide_type": ""
    },
    "tags": []
   },
   "outputs": [
    {
     "name": "stdout",
     "output_type": "stream",
     "text": [
      "+-------+----------+\n",
      "|quality|prediction|\n",
      "+-------+----------+\n",
      "|      5|       5.0|\n",
      "|      6|       6.0|\n",
      "|      7|       7.0|\n",
      "|      6|       7.0|\n",
      "|      4|       6.0|\n",
      "+-------+----------+\n",
      "only showing top 5 rows\n",
      "\n"
     ]
    }
   ],
   "source": [
    "pred.select('quality', 'prediction').show(5)"
   ]
  },
  {
   "cell_type": "code",
   "execution_count": 36,
   "id": "884bb7d4-8411-4429-b97a-4700e5c66f51",
   "metadata": {
    "editable": true,
    "slideshow": {
     "slide_type": ""
    },
    "tags": []
   },
   "outputs": [
    {
     "data": {
      "text/plain": [
       "2948"
      ]
     },
     "execution_count": 36,
     "metadata": {},
     "output_type": "execute_result"
    }
   ],
   "source": [
    "from pyspark.sql.functions import expr\n",
    "comp = pred.withColumn('correct', expr('case when quality = prediction then 1 else 0 end'))\n",
    "comp.where('correct=0').count()"
   ]
  },
  {
   "cell_type": "code",
   "execution_count": 37,
   "id": "03a40ef6-1a53-4470-865b-17d002438472",
   "metadata": {
    "editable": true,
    "slideshow": {
     "slide_type": ""
    },
    "tags": []
   },
   "outputs": [
    {
     "data": {
      "text/plain": [
       "0.301090564248459"
      ]
     },
     "execution_count": 37,
     "metadata": {},
     "output_type": "execute_result"
    }
   ],
   "source": [
    "comp.selectExpr('avg(correct) as accuracy').collect()[0]['accuracy']"
   ]
  },
  {
   "cell_type": "code",
   "execution_count": 40,
   "id": "5916b212-757f-4793-8d91-b18766a7b664",
   "metadata": {
    "editable": true,
    "slideshow": {
     "slide_type": ""
    },
    "tags": []
   },
   "outputs": [
    {
     "name": "stdout",
     "output_type": "stream",
     "text": [
      "fixed_acidity : 0.301090564248459\n",
      "volatile_acidity : 0.301090564248459\n",
      "citric_acid : 0.301090564248459\n",
      "residual_sugar : 0.301090564248459\n",
      "chlorides : 0.30369843527738266\n",
      "free_sulfur_dioxide : 0.301090564248459\n",
      "total_sulfur_dioxide : 0.301090564248459\n",
      "density : 0.301090564248459\n",
      "pH : 0.2917063870352717\n",
      "sulphates : 0.301090564248459\n",
      "alcohol : 0.3013276434329066\n"
     ]
    }
   ],
   "source": [
    "from pyspark.sql.functions import col, avg, stddev\n",
    "for num in num_features:\n",
    "    mean_val = df.select(avg(num)).collect()[0][0]\n",
    "    stddev_val = df.select(stddev(num)).collect()[0][0]\n",
    "    \n",
    "    # 2. Z-score 임계값 설정\n",
    "    threshold = 3.0\n",
    "    \n",
    "    \n",
    "    # 3. 이상치 제거\n",
    "    df_no_outliers_zscore = df.filter(\n",
    "        (col(num) >= (mean_val - threshold * stddev_val)) &\n",
    "        (col(num) <= (mean_val + threshold * stddev_val))\n",
    "    )\n",
    "    train_data, test_data = df_no_outliers_zscore.randomSplit([0.8,0.2], seed=64)\n",
    "    \n",
    "    pipeline = Pipeline(stages=stages)\n",
    "    fitted_transform = pipeline.fit(train_data)\n",
    "    vtrain_data = fitted_transform.transform(train_data)\n",
    "    lr = LogisticRegression(featuresCol='feature_vector', labelCol='quality')\n",
    "    lr_model = lr.fit(vtrain_data)\n",
    "    #테스트데이터도 변환\n",
    "    vtest_data = fitted_transform.transform(test_data)\n",
    "    #테스트데이터로 예측\n",
    "    pred = lr_model.transform(vtest_data)\n",
    "    comp = pred.withColumn('correct', expr('case when quality = prediction then 1 else 0 end'))\n",
    "    comp.where('correct=0').count()\n",
    "    acc = comp.selectExpr('avg(correct) as accuracy').collect()[0]['accuracy']\n",
    "    print(f'{num} : {acc}')"
   ]
  },
  {
   "cell_type": "code",
   "execution_count": 41,
   "id": "b9d4e4c8-455e-4deb-8316-0615e28d4d28",
   "metadata": {
    "editable": true,
    "slideshow": {
     "slide_type": ""
    },
    "tags": []
   },
   "outputs": [
    {
     "name": "stdout",
     "output_type": "stream",
     "text": [
      "fixed_acidity : 0.301090564248459\n",
      "volatile_acidity : 0.301090564248459\n",
      "citric_acid : 0.301090564248459\n",
      "residual_sugar : 0.301090564248459\n",
      "chlorides : 0.301090564248459\n",
      "free_sulfur_dioxide : 0.301090564248459\n",
      "total_sulfur_dioxide : 0.301090564248459\n",
      "density : 0.301090564248459\n",
      "pH : 0.3104106972301815\n",
      "sulphates : 0.301090564248459\n",
      "alcohol : 0.3013276434329066\n"
     ]
    }
   ],
   "source": [
    "for num in num_features:\n",
    "    quantiles = df.approxQuantile(num, [0.25, 0.75], 0.01)\n",
    "    Q1 = quantiles[0]\n",
    "    Q3 = quantiles[1]\n",
    "    \n",
    "    # 2. IQR 계산\n",
    "    IQR = Q3 - Q1\n",
    "    \n",
    "    # 3. 경계값 설정\n",
    "    lower_bound = Q1 - 1.5 * IQR\n",
    "    upper_bound = Q3 + 1.5 * IQR\n",
    "    df_no_outliers = df.filter((col(num) >= lower_bound) & (col(num) <= upper_bound))\n",
    "\n",
    "    train_data, test_data = df_no_outliers.randomSplit([0.8,0.2], seed=64)\n",
    "    \n",
    "    pipeline = Pipeline(stages=stages)\n",
    "    fitted_transform = pipeline.fit(train_data)\n",
    "    vtrain_data = fitted_transform.transform(train_data)\n",
    "    lr = LogisticRegression(featuresCol='feature_vector', labelCol='quality')\n",
    "    lr_model = lr.fit(vtrain_data)\n",
    "    #테스트데이터도 변환\n",
    "    vtest_data = fitted_transform.transform(test_data)\n",
    "    #테스트데이터로 예측\n",
    "    pred = lr_model.transform(vtest_data)\n",
    "    comp = pred.withColumn('correct', expr('case when quality = prediction then 1 else 0 end'))\n",
    "    comp.where('correct=0').count()\n",
    "    acc = comp.selectExpr('avg(correct) as accuracy').collect()[0]['accuracy']\n",
    "    print(f'{num} : {acc}')"
   ]
  }
 ],
 "metadata": {
  "kernelspec": {
   "display_name": "Python 3 (ipykernel)",
   "language": "python",
   "name": "python3"
  },
  "language_info": {
   "codemirror_mode": {
    "name": "ipython",
    "version": 3
   },
   "file_extension": ".py",
   "mimetype": "text/x-python",
   "name": "python",
   "nbconvert_exporter": "python",
   "pygments_lexer": "ipython3",
   "version": "3.11.6"
  }
 },
 "nbformat": 4,
 "nbformat_minor": 5
}
